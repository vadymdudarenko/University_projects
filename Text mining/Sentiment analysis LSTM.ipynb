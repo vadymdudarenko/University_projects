{
 "cells": [
  {
   "cell_type": "markdown",
   "id": "3836bf6b",
   "metadata": {},
   "source": [
    "# Sentiment Analysis reviews of Austin Coffee\n",
    "Ismayil Ismayilov 444459\n",
    "\n",
    "Vadym Dudarenko 444820\n",
    "\n",
    "Ivan Grakhovski 444422\n"
   ]
  },
  {
   "cell_type": "markdown",
   "id": "b3e24b4e",
   "metadata": {},
   "source": [
    "# 1.Introduction"
   ]
  },
  {
   "cell_type": "markdown",
   "id": "f86aa661",
   "metadata": {},
   "source": [
    "The goal of the project is to analyze review from Austin coffe and predict if it is positive, negative or neutral feedback "
   ]
  },
  {
   "cell_type": "markdown",
   "id": "c35efb3a",
   "metadata": {},
   "source": [
    "We are going to make data processing for futher data modeling. We will use deep leatning algoritm(LSTM model) to assses the reviews from the customers.  "
   ]
  },
  {
   "cell_type": "markdown",
   "id": "10a76096",
   "metadata": {},
   "source": [
    "The main assumption is to understand if it is a good place to visit or people are satisfited with this place in general"
   ]
  },
  {
   "cell_type": "markdown",
   "id": "870ffc1c",
   "metadata": {},
   "source": [
    "# 2.Data"
   ]
  },
  {
   "cell_type": "markdown",
   "id": "55b93ad8",
   "metadata": {},
   "source": [
    "Nearly 7,000 reviews scraped from yelp.com about Austin coffee shops, attributes replaced, sentiments around attributes\n"
   ]
  },
  {
   "cell_type": "markdown",
   "id": "e49ff414",
   "metadata": {},
   "source": [
    "Link to the dataset: https://data.world/rdowns26/austin-coffee-yelp-reviews"
   ]
  },
  {
   "cell_type": "code",
   "execution_count": 1,
   "id": "ead19688",
   "metadata": {},
   "outputs": [],
   "source": [
    "#import necessary packagies\n",
    "import numpy as np\n",
    "import pandas as pd\n",
    "import re\n",
    "import matplotlib.pyplot as plt\n",
    "import seaborn as sns\n",
    "from bs4 import BeautifulSoup\n",
    "from tensorflow.keras.preprocessing.sequence import pad_sequences"
   ]
  },
  {
   "cell_type": "code",
   "execution_count": 2,
   "id": "17f49263",
   "metadata": {},
   "outputs": [],
   "source": [
    "#import the dataset\n",
    "df= pd.read_csv(\"C:\\\\Users\\\\Vadym\\\\Desktop\\\\Text mining\\\\project\\\\ratings_and_sentiments.csv\")"
   ]
  },
  {
   "cell_type": "code",
   "execution_count": 3,
   "id": "b8700138",
   "metadata": {},
   "outputs": [
    {
     "data": {
      "text/html": [
       "<div>\n",
       "<style scoped>\n",
       "    .dataframe tbody tr th:only-of-type {\n",
       "        vertical-align: middle;\n",
       "    }\n",
       "\n",
       "    .dataframe tbody tr th {\n",
       "        vertical-align: top;\n",
       "    }\n",
       "\n",
       "    .dataframe thead th {\n",
       "        text-align: right;\n",
       "    }\n",
       "</style>\n",
       "<table border=\"1\" class=\"dataframe\">\n",
       "  <thead>\n",
       "    <tr style=\"text-align: right;\">\n",
       "      <th></th>\n",
       "      <th>coffee_shop_name</th>\n",
       "      <th>review_text</th>\n",
       "      <th>rating</th>\n",
       "      <th>num_rating</th>\n",
       "      <th>cat_rating</th>\n",
       "      <th>bool_HIGH</th>\n",
       "      <th>overall_sent</th>\n",
       "      <th>vibe_sent</th>\n",
       "      <th>tea_sent</th>\n",
       "      <th>service_sent</th>\n",
       "      <th>seating_sent</th>\n",
       "      <th>price_sent</th>\n",
       "      <th>parking_sent</th>\n",
       "      <th>location_sent</th>\n",
       "      <th>alcohol_sent</th>\n",
       "      <th>coffee_sent</th>\n",
       "      <th>food_sent</th>\n",
       "      <th>hours_sent</th>\n",
       "      <th>internet_sent</th>\n",
       "      <th>local_sent</th>\n",
       "    </tr>\n",
       "  </thead>\n",
       "  <tbody>\n",
       "    <tr>\n",
       "      <th>0</th>\n",
       "      <td>The Factory - Cafe With a Soul</td>\n",
       "      <td>11/25/2016 1 check-in Love love loved the vib...</td>\n",
       "      <td>5.0 star rating</td>\n",
       "      <td>5.0</td>\n",
       "      <td>HIGH</td>\n",
       "      <td>1.0</td>\n",
       "      <td>4.0</td>\n",
       "      <td>3</td>\n",
       "      <td>0.0</td>\n",
       "      <td>0.0</td>\n",
       "      <td>0.0</td>\n",
       "      <td>0.0</td>\n",
       "      <td>0</td>\n",
       "      <td>0.0</td>\n",
       "      <td>1.0</td>\n",
       "      <td>3</td>\n",
       "      <td>0</td>\n",
       "      <td>0.0</td>\n",
       "      <td>0.0</td>\n",
       "      <td>0.0</td>\n",
       "    </tr>\n",
       "    <tr>\n",
       "      <th>1</th>\n",
       "      <td>The Factory - Cafe With a Soul</td>\n",
       "      <td>12/2/2016 Listed in Date Night: Austin, vibe ...</td>\n",
       "      <td>4.0 star rating</td>\n",
       "      <td>4.0</td>\n",
       "      <td>HIGH</td>\n",
       "      <td>1.0</td>\n",
       "      <td>3.0</td>\n",
       "      <td>3</td>\n",
       "      <td>0.0</td>\n",
       "      <td>0.0</td>\n",
       "      <td>0.0</td>\n",
       "      <td>0.0</td>\n",
       "      <td>0</td>\n",
       "      <td>0.0</td>\n",
       "      <td>0.0</td>\n",
       "      <td>0</td>\n",
       "      <td>2</td>\n",
       "      <td>0.0</td>\n",
       "      <td>0.0</td>\n",
       "      <td>0.0</td>\n",
       "    </tr>\n",
       "    <tr>\n",
       "      <th>2</th>\n",
       "      <td>The Factory - Cafe With a Soul</td>\n",
       "      <td>11/30/2016 1 check-in Listed in food seating ...</td>\n",
       "      <td>4.0 star rating</td>\n",
       "      <td>4.0</td>\n",
       "      <td>HIGH</td>\n",
       "      <td>1.0</td>\n",
       "      <td>2.0</td>\n",
       "      <td>2</td>\n",
       "      <td>0.0</td>\n",
       "      <td>0.0</td>\n",
       "      <td>3.0</td>\n",
       "      <td>0.0</td>\n",
       "      <td>0</td>\n",
       "      <td>0.0</td>\n",
       "      <td>0.0</td>\n",
       "      <td>-1</td>\n",
       "      <td>2</td>\n",
       "      <td>0.0</td>\n",
       "      <td>0.0</td>\n",
       "      <td>0.0</td>\n",
       "    </tr>\n",
       "    <tr>\n",
       "      <th>3</th>\n",
       "      <td>The Factory - Cafe With a Soul</td>\n",
       "      <td>11/25/2016 Very cool vibe! Good drinks Nice s...</td>\n",
       "      <td>2.0 star rating</td>\n",
       "      <td>2.0</td>\n",
       "      <td>LOW</td>\n",
       "      <td>0.0</td>\n",
       "      <td>1.0</td>\n",
       "      <td>0</td>\n",
       "      <td>0.0</td>\n",
       "      <td>0.0</td>\n",
       "      <td>-1.0</td>\n",
       "      <td>-1.0</td>\n",
       "      <td>0</td>\n",
       "      <td>0.0</td>\n",
       "      <td>0.0</td>\n",
       "      <td>0</td>\n",
       "      <td>0</td>\n",
       "      <td>0.0</td>\n",
       "      <td>0.0</td>\n",
       "      <td>0.0</td>\n",
       "    </tr>\n",
       "    <tr>\n",
       "      <th>4</th>\n",
       "      <td>The Factory - Cafe With a Soul</td>\n",
       "      <td>12/3/2016 1 check-in They are location within...</td>\n",
       "      <td>4.0 star rating</td>\n",
       "      <td>4.0</td>\n",
       "      <td>HIGH</td>\n",
       "      <td>1.0</td>\n",
       "      <td>2.0</td>\n",
       "      <td>0</td>\n",
       "      <td>0.0</td>\n",
       "      <td>0.0</td>\n",
       "      <td>0.0</td>\n",
       "      <td>0.0</td>\n",
       "      <td>3</td>\n",
       "      <td>0.0</td>\n",
       "      <td>0.0</td>\n",
       "      <td>0</td>\n",
       "      <td>0</td>\n",
       "      <td>0.0</td>\n",
       "      <td>0.0</td>\n",
       "      <td>0.0</td>\n",
       "    </tr>\n",
       "  </tbody>\n",
       "</table>\n",
       "</div>"
      ],
      "text/plain": [
       "                  coffee_shop_name  \\\n",
       "0  The Factory - Cafe With a Soul    \n",
       "1  The Factory - Cafe With a Soul    \n",
       "2  The Factory - Cafe With a Soul    \n",
       "3  The Factory - Cafe With a Soul    \n",
       "4  The Factory - Cafe With a Soul    \n",
       "\n",
       "                                         review_text             rating  \\\n",
       "0   11/25/2016 1 check-in Love love loved the vib...   5.0 star rating    \n",
       "1   12/2/2016 Listed in Date Night: Austin, vibe ...   4.0 star rating    \n",
       "2   11/30/2016 1 check-in Listed in food seating ...   4.0 star rating    \n",
       "3   11/25/2016 Very cool vibe! Good drinks Nice s...   2.0 star rating    \n",
       "4   12/3/2016 1 check-in They are location within...   4.0 star rating    \n",
       "\n",
       "   num_rating cat_rating  bool_HIGH  overall_sent vibe_sent  tea_sent  \\\n",
       "0         5.0       HIGH        1.0           4.0         3       0.0   \n",
       "1         4.0       HIGH        1.0           3.0         3       0.0   \n",
       "2         4.0       HIGH        1.0           2.0         2       0.0   \n",
       "3         2.0        LOW        0.0           1.0         0       0.0   \n",
       "4         4.0       HIGH        1.0           2.0         0       0.0   \n",
       "\n",
       "   service_sent  seating_sent  price_sent parking_sent  location_sent  \\\n",
       "0           0.0           0.0         0.0            0            0.0   \n",
       "1           0.0           0.0         0.0            0            0.0   \n",
       "2           0.0           3.0         0.0            0            0.0   \n",
       "3           0.0          -1.0        -1.0            0            0.0   \n",
       "4           0.0           0.0         0.0            3            0.0   \n",
       "\n",
       "   alcohol_sent coffee_sent food_sent  hours_sent  internet_sent  local_sent  \n",
       "0           1.0           3         0         0.0            0.0         0.0  \n",
       "1           0.0           0         2         0.0            0.0         0.0  \n",
       "2           0.0          -1         2         0.0            0.0         0.0  \n",
       "3           0.0           0         0         0.0            0.0         0.0  \n",
       "4           0.0           0         0         0.0            0.0         0.0  "
      ]
     },
     "execution_count": 3,
     "metadata": {},
     "output_type": "execute_result"
    }
   ],
   "source": [
    "df.head(5)"
   ]
  },
  {
   "cell_type": "markdown",
   "id": "70b09a2f",
   "metadata": {},
   "source": [
    "Basically we need only two colums to make sentiment analysis it is a 'review_text' and 'num_rating'."
   ]
  },
  {
   "cell_type": "markdown",
   "id": "a3009ec4",
   "metadata": {},
   "source": [
    "# Data preparation"
   ]
  },
  {
   "cell_type": "markdown",
   "id": "7e3819f7",
   "metadata": {},
   "source": [
    "Firslty, we should clean reiviews which includes drop the missing vlaues, convert text to lowercase, remove mentions,  hashes, new line characters, single quotes, hyperlinks, punctuations, stopwords. "
   ]
  },
  {
   "cell_type": "code",
   "execution_count": 4,
   "id": "8a0b0dbf",
   "metadata": {},
   "outputs": [],
   "source": [
    "#We need only two colums, thats why we just deacrase our dataset\n",
    "df = df[['review_text', 'num_rating']]"
   ]
  },
  {
   "cell_type": "code",
   "execution_count": 5,
   "id": "ad6bb82c",
   "metadata": {},
   "outputs": [
    {
     "data": {
      "text/html": [
       "<div>\n",
       "<style scoped>\n",
       "    .dataframe tbody tr th:only-of-type {\n",
       "        vertical-align: middle;\n",
       "    }\n",
       "\n",
       "    .dataframe tbody tr th {\n",
       "        vertical-align: top;\n",
       "    }\n",
       "\n",
       "    .dataframe thead th {\n",
       "        text-align: right;\n",
       "    }\n",
       "</style>\n",
       "<table border=\"1\" class=\"dataframe\">\n",
       "  <thead>\n",
       "    <tr style=\"text-align: right;\">\n",
       "      <th></th>\n",
       "      <th>review_text</th>\n",
       "      <th>num_rating</th>\n",
       "    </tr>\n",
       "  </thead>\n",
       "  <tbody>\n",
       "    <tr>\n",
       "      <th>0</th>\n",
       "      <td>11/25/2016 1 check-in Love love loved the vib...</td>\n",
       "      <td>5.0</td>\n",
       "    </tr>\n",
       "    <tr>\n",
       "      <th>1</th>\n",
       "      <td>12/2/2016 Listed in Date Night: Austin, vibe ...</td>\n",
       "      <td>4.0</td>\n",
       "    </tr>\n",
       "    <tr>\n",
       "      <th>2</th>\n",
       "      <td>11/30/2016 1 check-in Listed in food seating ...</td>\n",
       "      <td>4.0</td>\n",
       "    </tr>\n",
       "    <tr>\n",
       "      <th>3</th>\n",
       "      <td>11/25/2016 Very cool vibe! Good drinks Nice s...</td>\n",
       "      <td>2.0</td>\n",
       "    </tr>\n",
       "    <tr>\n",
       "      <th>4</th>\n",
       "      <td>12/3/2016 1 check-in They are location within...</td>\n",
       "      <td>4.0</td>\n",
       "    </tr>\n",
       "  </tbody>\n",
       "</table>\n",
       "</div>"
      ],
      "text/plain": [
       "                                         review_text  num_rating\n",
       "0   11/25/2016 1 check-in Love love loved the vib...         5.0\n",
       "1   12/2/2016 Listed in Date Night: Austin, vibe ...         4.0\n",
       "2   11/30/2016 1 check-in Listed in food seating ...         4.0\n",
       "3   11/25/2016 Very cool vibe! Good drinks Nice s...         2.0\n",
       "4   12/3/2016 1 check-in They are location within...         4.0"
      ]
     },
     "execution_count": 5,
     "metadata": {},
     "output_type": "execute_result"
    }
   ],
   "source": [
    "df.head(5)"
   ]
  },
  {
   "cell_type": "code",
   "execution_count": 6,
   "id": "6f0aa5a3",
   "metadata": {},
   "outputs": [],
   "source": [
    "#As we see, we should male data cleaning\n",
    "df[['date','review']] = df['review_text'].str.split(n=1, expand=True)"
   ]
  },
  {
   "cell_type": "code",
   "execution_count": 7,
   "id": "1f8b6e6e",
   "metadata": {},
   "outputs": [
    {
     "data": {
      "text/html": [
       "<div>\n",
       "<style scoped>\n",
       "    .dataframe tbody tr th:only-of-type {\n",
       "        vertical-align: middle;\n",
       "    }\n",
       "\n",
       "    .dataframe tbody tr th {\n",
       "        vertical-align: top;\n",
       "    }\n",
       "\n",
       "    .dataframe thead th {\n",
       "        text-align: right;\n",
       "    }\n",
       "</style>\n",
       "<table border=\"1\" class=\"dataframe\">\n",
       "  <thead>\n",
       "    <tr style=\"text-align: right;\">\n",
       "      <th></th>\n",
       "      <th>review_text</th>\n",
       "      <th>num_rating</th>\n",
       "      <th>date</th>\n",
       "      <th>review</th>\n",
       "    </tr>\n",
       "  </thead>\n",
       "  <tbody>\n",
       "    <tr>\n",
       "      <th>0</th>\n",
       "      <td>11/25/2016 1 check-in Love love loved the vib...</td>\n",
       "      <td>5.0</td>\n",
       "      <td>11/25/2016</td>\n",
       "      <td>1 check-in Love love loved the vibe! Every cor...</td>\n",
       "    </tr>\n",
       "    <tr>\n",
       "      <th>1</th>\n",
       "      <td>12/2/2016 Listed in Date Night: Austin, vibe ...</td>\n",
       "      <td>4.0</td>\n",
       "      <td>12/2/2016</td>\n",
       "      <td>Listed in Date Night: Austin, vibe in Austin B...</td>\n",
       "    </tr>\n",
       "    <tr>\n",
       "      <th>2</th>\n",
       "      <td>11/30/2016 1 check-in Listed in food seating ...</td>\n",
       "      <td>4.0</td>\n",
       "      <td>11/30/2016</td>\n",
       "      <td>1 check-in Listed in food seating I loved the ...</td>\n",
       "    </tr>\n",
       "    <tr>\n",
       "      <th>3</th>\n",
       "      <td>11/25/2016 Very cool vibe! Good drinks Nice s...</td>\n",
       "      <td>2.0</td>\n",
       "      <td>11/25/2016</td>\n",
       "      <td>Very cool vibe! Good drinks Nice seating  Howe...</td>\n",
       "    </tr>\n",
       "    <tr>\n",
       "      <th>4</th>\n",
       "      <td>12/3/2016 1 check-in They are location within...</td>\n",
       "      <td>4.0</td>\n",
       "      <td>12/3/2016</td>\n",
       "      <td>1 check-in They are location within the Northc...</td>\n",
       "    </tr>\n",
       "  </tbody>\n",
       "</table>\n",
       "</div>"
      ],
      "text/plain": [
       "                                         review_text  num_rating        date  \\\n",
       "0   11/25/2016 1 check-in Love love loved the vib...         5.0  11/25/2016   \n",
       "1   12/2/2016 Listed in Date Night: Austin, vibe ...         4.0   12/2/2016   \n",
       "2   11/30/2016 1 check-in Listed in food seating ...         4.0  11/30/2016   \n",
       "3   11/25/2016 Very cool vibe! Good drinks Nice s...         2.0  11/25/2016   \n",
       "4   12/3/2016 1 check-in They are location within...         4.0   12/3/2016   \n",
       "\n",
       "                                              review  \n",
       "0  1 check-in Love love loved the vibe! Every cor...  \n",
       "1  Listed in Date Night: Austin, vibe in Austin B...  \n",
       "2  1 check-in Listed in food seating I loved the ...  \n",
       "3  Very cool vibe! Good drinks Nice seating  Howe...  \n",
       "4  1 check-in They are location within the Northc...  "
      ]
     },
     "execution_count": 7,
     "metadata": {},
     "output_type": "execute_result"
    }
   ],
   "source": [
    "df.head(5)"
   ]
  },
  {
   "cell_type": "code",
   "execution_count": 8,
   "id": "0dfc8d66",
   "metadata": {},
   "outputs": [],
   "source": [
    "#lets drop not important columns\n",
    "df.drop(['date', 'review_text'],  axis=1, inplace = True)"
   ]
  },
  {
   "cell_type": "code",
   "execution_count": 9,
   "id": "ae62228a",
   "metadata": {},
   "outputs": [],
   "source": [
    "#Replacing the numerical values with Positive,Neutral,Negative review\n",
    "df.loc[df[\"num_rating\"] == 5.0, \"num_rating\"] = 'Positive'\n",
    "df.loc[df[\"num_rating\"] == 4.0, \"num_rating\"] = 'Positive'\n",
    "df.loc[df[\"num_rating\"] == 3.0, \"num_rating\"] = 'Neutral'\n",
    "df.loc[df[\"num_rating\"] == 2.0, \"num_rating\"] = 'Negative'\n",
    "df.loc[df[\"num_rating\"] == 1.0, \"num_rating\"] = 'Negative'"
   ]
  },
  {
   "cell_type": "code",
   "execution_count": 10,
   "id": "e8382b0c",
   "metadata": {},
   "outputs": [
    {
     "data": {
      "text/plain": [
       "<AxesSubplot:xlabel='num_rating', ylabel='count'>"
      ]
     },
     "execution_count": 10,
     "metadata": {},
     "output_type": "execute_result"
    },
    {
     "data": {
      "image/png": "[encoded data removed]",
      "text/plain": [
       "<Figure size 432x288 with 1 Axes>"
      ]
     },
     "metadata": {
      "needs_background": "light"
     },
     "output_type": "display_data"
    }
   ],
   "source": [
    "#Distrubution of the reviews\n",
    "sns.countplot(x='num_rating', data=df)"
   ]
  },
  {
   "cell_type": "markdown",
   "id": "962c974c",
   "metadata": {},
   "source": [
    "We see from the chart, that most of review are postive "
   ]
  },
  {
   "cell_type": "code",
   "execution_count": 11,
   "id": "0b564f69",
   "metadata": {},
   "outputs": [
    {
     "data": {
      "text/plain": [
       "num_rating    5\n",
       "review        5\n",
       "dtype: int64"
      ]
     },
     "execution_count": 11,
     "metadata": {},
     "output_type": "execute_result"
    }
   ],
   "source": [
    "#cheking missing value\n",
    "df.isnull().sum()"
   ]
  },
  {
   "cell_type": "code",
   "execution_count": 12,
   "id": "5221ff4c",
   "metadata": {},
   "outputs": [],
   "source": [
    "df.dropna(inplace=True)"
   ]
  },
  {
   "cell_type": "code",
   "execution_count": 13,
   "id": "030d7641",
   "metadata": {},
   "outputs": [],
   "source": [
    "#cheking the numebr of letters in the text reiview in the case if we have an empty row \n",
    "df['length']=df['review'].apply(len)"
   ]
  },
  {
   "cell_type": "code",
   "execution_count": 14,
   "id": "f88ada0e",
   "metadata": {},
   "outputs": [],
   "source": [
    "#Replacing with Nan values it exist\n",
    "df.replace(0, np.nan, inplace=True)"
   ]
  },
  {
   "cell_type": "code",
   "execution_count": 15,
   "id": "a2c5b59a",
   "metadata": {},
   "outputs": [],
   "source": [
    "df.dropna(inplace=True)"
   ]
  },
  {
   "cell_type": "code",
   "execution_count": 16,
   "id": "20cefec3",
   "metadata": {},
   "outputs": [
    {
     "data": {
      "text/html": [
       "<div>\n",
       "<style scoped>\n",
       "    .dataframe tbody tr th:only-of-type {\n",
       "        vertical-align: middle;\n",
       "    }\n",
       "\n",
       "    .dataframe tbody tr th {\n",
       "        vertical-align: top;\n",
       "    }\n",
       "\n",
       "    .dataframe thead th {\n",
       "        text-align: right;\n",
       "    }\n",
       "</style>\n",
       "<table border=\"1\" class=\"dataframe\">\n",
       "  <thead>\n",
       "    <tr style=\"text-align: right;\">\n",
       "      <th></th>\n",
       "      <th>num_rating</th>\n",
       "      <th>review</th>\n",
       "      <th>length</th>\n",
       "    </tr>\n",
       "  </thead>\n",
       "  <tbody>\n",
       "    <tr>\n",
       "      <th>0</th>\n",
       "      <td>Positive</td>\n",
       "      <td>1 check-in Love love loved the vibe! Every cor...</td>\n",
       "      <td>550</td>\n",
       "    </tr>\n",
       "    <tr>\n",
       "      <th>1</th>\n",
       "      <td>Positive</td>\n",
       "      <td>Listed in Date Night: Austin, vibe in Austin B...</td>\n",
       "      <td>285</td>\n",
       "    </tr>\n",
       "    <tr>\n",
       "      <th>2</th>\n",
       "      <td>Positive</td>\n",
       "      <td>1 check-in Listed in food seating I loved the ...</td>\n",
       "      <td>1259</td>\n",
       "    </tr>\n",
       "    <tr>\n",
       "      <th>3</th>\n",
       "      <td>Negative</td>\n",
       "      <td>Very cool vibe! Good drinks Nice seating  Howe...</td>\n",
       "      <td>369</td>\n",
       "    </tr>\n",
       "    <tr>\n",
       "      <th>4</th>\n",
       "      <td>Positive</td>\n",
       "      <td>1 check-in They are location within the Northc...</td>\n",
       "      <td>633</td>\n",
       "    </tr>\n",
       "  </tbody>\n",
       "</table>\n",
       "</div>"
      ],
      "text/plain": [
       "  num_rating                                             review  length\n",
       "0   Positive  1 check-in Love love loved the vibe! Every cor...     550\n",
       "1   Positive  Listed in Date Night: Austin, vibe in Austin B...     285\n",
       "2   Positive  1 check-in Listed in food seating I loved the ...    1259\n",
       "3   Negative  Very cool vibe! Good drinks Nice seating  Howe...     369\n",
       "4   Positive  1 check-in They are location within the Northc...     633"
      ]
     },
     "execution_count": 16,
     "metadata": {},
     "output_type": "execute_result"
    }
   ],
   "source": [
    "df.head(5)"
   ]
  },
  {
   "cell_type": "code",
   "execution_count": 17,
   "id": "8b197ac4",
   "metadata": {},
   "outputs": [
    {
     "data": {
      "text/plain": [
       "<AxesSubplot:ylabel='Frequency'>"
      ]
     },
     "execution_count": 17,
     "metadata": {},
     "output_type": "execute_result"
    },
    {
     "data": {
      "image/png": "[encoded data removed]",
      "text/plain": [
       "<Figure size 432x288 with 1 Axes>"
      ]
     },
     "metadata": {
      "needs_background": "light"
     },
     "output_type": "display_data"
    }
   ],
   "source": [
    "#distrubution of the length of all reviews \n",
    "df['length'].plot(bins=100, kind='hist')"
   ]
  },
  {
   "cell_type": "markdown",
   "id": "fd341948",
   "metadata": {},
   "source": [
    "From the chart, we can observe, that most of reviews are not longer than 100 letters"
   ]
  },
  {
   "cell_type": "code",
   "execution_count": 18,
   "id": "346c2f45",
   "metadata": {},
   "outputs": [],
   "source": [
    "def clean(phrase):\n",
    "    phrase = re.sub(r'@[A-Za-z0-9]+','', phrase) #remove mentions\n",
    "    phrase = re.sub(r'#','', phrase) #remove hash\n",
    "    phrase = re.sub(r'https?:\\/\\/\\S+', '', phrase) #remove hyperlink\n",
    "    phrase = re.sub('\\s+', ' ', phrase) #remove new line char\n",
    "    phrase = re.sub(\"\\'\", \"\", phrase) #remove single quotes\n",
    "    # specific\n",
    "    phrase = re.sub(r\"won't\", \"will not\", phrase)\n",
    "    phrase = re.sub(r\"can\\'t\", \"can not\", phrase)\n",
    "    # general\n",
    "    phrase = re.sub(r\"n\\'t\", \" not\", phrase)\n",
    "    phrase = re.sub(r\"\\'re\", \" are\", phrase)\n",
    "    phrase = re.sub(r\"\\'s\", \" is\", phrase)\n",
    "    phrase = re.sub(r\"\\'d\", \" would\", phrase)\n",
    "    phrase = re.sub(r\"\\'ll\", \" will\", phrase)\n",
    "    phrase = re.sub(r\"\\'t\", \" not\", phrase)\n",
    "    phrase = re.sub(r\"\\'ve\", \" have\", phrase)\n",
    "    phrase = re.sub(r\"\\'m\", \" am\", phrase)\n",
    "    return phrase\n",
    "stopwords= set(['br', 'the', 'i', 'me', 'my', 'myself', 'we', 'our', 'ours', 'ourselves', 'you', \"you're\", \"you've\",\\\n",
    "            \"you'll\", \"you'd\", 'your', 'yours', 'yourself', 'yourselves', 'he', 'him', 'his', 'himself', \\\n",
    "            'she', \"she's\", 'her', 'hers', 'herself', 'it', \"it's\", 'its', 'itself', 'they', 'them', 'their',\\\n",
    "            'theirs', 'themselves', 'what', 'which', 'who', 'whom', 'this', 'that', \"that'll\", 'these', 'those', \\\n",
    "            'am', 'is', 'are', 'was', 'were', 'be', 'been', 'being', 'have', 'has', 'had', 'having', 'do', 'does', \\\n",
    "            'did', 'doing', 'a', 'an', 'the', 'and', 'but', 'if', 'or', 'because', 'as', 'until', 'while', 'of', \\\n",
    "            'at', 'by', 'for', 'with', 'about', 'against', 'between', 'into', 'through', 'during', 'before', 'after',\\\n",
    "            'above', 'below', 'to', 'from', 'up', 'down', 'in', 'out', 'on', 'off', 'over', 'under', 'again', 'further',\\\n",
    "            'then', 'once', 'here', 'there', 'when', 'where', 'why', 'how', 'all', 'any', 'both', 'each', 'few', 'more',\\\n",
    "            'most', 'other', 'some', 'such', 'only', 'own', 'same', 'so', 'than', 'too', 'very', \\\n",
    "            's', 't', 'can', 'will', 'just', 'don', \"don't\", 'should', \"should've\", 'now', 'd', 'll', 'm', 'o', 're', \\\n",
    "            've', 'y', 'ain', 'aren', \"aren't\", 'couldn', \"couldn't\", 'didn', \"didn't\", 'doesn', \"doesn't\", 'hadn',\\\n",
    "            \"hadn't\", 'hasn', \"hasn't\", 'haven', \"haven't\", 'isn', \"isn't\", 'ma', 'mightn', \"mightn't\", 'mustn',\\\n",
    "            \"mustn't\", 'needn', \"needn't\", 'shan', \"shan't\", 'shouldn', \"shouldn't\", 'wasn', \"wasn't\", 'weren', \"weren't\", \\\n",
    "            'won', \"won't\", 'wouldn', \"wouldn't\"])\n",
    "    \n",
    "df[\"review\"] = df[\"review\"].apply(clean)"
   ]
  },
  {
   "cell_type": "code",
   "execution_count": 19,
   "id": "c6f41c6b",
   "metadata": {},
   "outputs": [],
   "source": [
    "from tqdm import tqdm\n",
    "preprocessed_synopsis = []\n",
    "# tqdm is for printing the status bar\n",
    "for sentance in df[\"review\"].values:\n",
    "    sentance = re.sub(r\"http\\S+\", \"\", sentance)\n",
    "    sentance = BeautifulSoup(sentance, 'lxml').get_text()\n",
    "    sentance = clean(sentance)\n",
    "    sentance = re.sub(\"\\S*\\d\\S*\", \"\", sentance).strip()\n",
    "    sentance = re.sub('[^A-Za-z]+', ' ', sentance)\n",
    "    sentance = ' '.join(e.lower() for e in sentance.split() if e.lower() not in stopwords)\n",
    "    preprocessed_synopsis.append(sentance.strip())\n",
    "df[\"review\"] =preprocessed_synopsis"
   ]
  },
  {
   "cell_type": "code",
   "execution_count": 20,
   "id": "9bec28f5",
   "metadata": {},
   "outputs": [],
   "source": [
    "import string\n",
    "df[\"review\"] = df[\"review\"].apply(lambda wrd:[ltrs.lower() for ltrs in wrd if ltrs not in string.punctuation])\n",
    "df[\"review\"]= df[\"review\"].apply(lambda wrd: ''.join(wrd))"
   ]
  },
  {
   "cell_type": "code",
   "execution_count": 21,
   "id": "68b65afd",
   "metadata": {},
   "outputs": [
    {
     "name": "stderr",
     "output_type": "stream",
     "text": [
      "<ipython-input-21-631f1e6201f8>:2: SettingWithCopyWarning: \n",
      "A value is trying to be set on a copy of a slice from a DataFrame\n",
      "\n",
      "See the caveats in the documentation: https://pandas.pydata.org/pandas-docs/stable/user_guide/indexing.html#returning-a-view-versus-a-copy\n",
      "  df[\"review\"][:50] = df[\"review\"][:50].apply(lambda x: ' '.join([word for word in x.split() if word not in stopwords.words(\"english\")]))\n"
     ]
    }
   ],
   "source": [
    "from nltk.corpus import stopwords\n",
    "df[\"review\"][:50] = df[\"review\"][:50].apply(lambda x: ' '.join([word for word in x.split() if word not in stopwords.words(\"english\")]))"
   ]
  },
  {
   "cell_type": "code",
   "execution_count": 22,
   "id": "b8911f0e",
   "metadata": {},
   "outputs": [
    {
     "data": {
      "text/plain": [
       "0       check love love loved vibe every corner coffee...\n",
       "1       listed date night austin vibe austin beautiful...\n",
       "2       check listed food seating loved eclectic homey...\n",
       "3       cool vibe good drinks nice seating however eve...\n",
       "4       check location within northcross mall shopping...\n",
       "                              ...                        \n",
       "7611    actually step restaurant chance one favorites ...\n",
       "7612    ok coffeeing seating awesome many great menu i...\n",
       "7613    loved coming tea vibe pretty fresh ordered str...\n",
       "7614    food average booths didnt feel clean waitstaff...\n",
       "7615    finally stopped food colleague im glad delicio...\n",
       "Name: review, Length: 7616, dtype: object"
      ]
     },
     "execution_count": 22,
     "metadata": {},
     "output_type": "execute_result"
    }
   ],
   "source": [
    "df[\"review\"]"
   ]
  },
  {
   "cell_type": "code",
   "execution_count": 23,
   "id": "515db6f0",
   "metadata": {},
   "outputs": [
    {
     "name": "stdout",
     "output_type": "stream",
     "text": [
      "[[   0    0    0 ...    3  279 2091]\n",
      " [   0    0    0 ...  677  295   23]\n",
      " [   0    0    0 ...  736   98  818]\n",
      " ...\n",
      " [   0    0    0 ...  128  886   27]\n",
      " [   0    0    0 ...   16  122    4]\n",
      " [   0    0    0 ...  133   35  547]]\n"
     ]
    }
   ],
   "source": [
    "#Tokenizing and adding padding\n",
    "from keras.preprocessing.text import Tokenizer\n",
    "from keras import regularizers\n",
    "max_words = 5000\n",
    "max_len = 300\n",
    "\n",
    "tokenizer = Tokenizer(num_words=max_words)\n",
    "tokenizer.fit_on_texts(df['review'])\n",
    "sequences = tokenizer.texts_to_sequences(df['review'])\n",
    "reviews = pad_sequences(sequences, maxlen=max_len)\n",
    "print(reviews)"
   ]
  },
  {
   "cell_type": "code",
   "execution_count": 24,
   "id": "5fc90575",
   "metadata": {},
   "outputs": [],
   "source": [
    "import tensorflow as tf\n",
    "feedback = np.array(df['num_rating'])\n",
    "y = []\n",
    "for i in range(len(feedback)):\n",
    "    if feedback [i] == 'Neutral':\n",
    "        y.append(0)\n",
    "    if feedback [i] == 'Negative':\n",
    "        y.append(1)\n",
    "    if feedback [i] == 'Positive':\n",
    "        y.append(2)\n",
    "y = np.array(y)\n",
    "feedback  = tf.keras.utils.to_categorical(y, 3, dtype=\"float32\")\n",
    "del y"
   ]
  },
  {
   "cell_type": "code",
   "execution_count": 25,
   "id": "94aa6061",
   "metadata": {},
   "outputs": [
    {
     "data": {
      "text/plain": [
       "array([[0., 0., 1.],\n",
       "       [0., 0., 1.],\n",
       "       [0., 0., 1.],\n",
       "       ...,\n",
       "       [0., 0., 1.],\n",
       "       [1., 0., 0.],\n",
       "       [0., 0., 1.]], dtype=float32)"
      ]
     },
     "execution_count": 25,
     "metadata": {},
     "output_type": "execute_result"
    }
   ],
   "source": [
    "feedback "
   ]
  },
  {
   "cell_type": "markdown",
   "id": "7e6ba069",
   "metadata": {},
   "source": [
    "# 3.Modeling"
   ]
  },
  {
   "cell_type": "markdown",
   "id": "9247441f",
   "metadata": {},
   "source": [
    "As We said before, for modeling we are using LSTM algoritm to predict our reviews"
   ]
  },
  {
   "cell_type": "code",
   "execution_count": 26,
   "id": "6c99aa90",
   "metadata": {},
   "outputs": [],
   "source": [
    "from keras.layers import Embedding\n",
    "from keras.models import Sequential\n",
    "from keras import layers\n",
    "embedding_layer = Embedding(1000, 64)\n",
    "model = Sequential()\n",
    "model.add(layers.Embedding(max_words, 40, input_length=max_len))\n",
    "model.add(layers.Bidirectional(layers.LSTM(20,dropout=0.6)))\n",
    "model.add(layers.Dense(3,activation='softmax'))"
   ]
  },
  {
   "cell_type": "code",
   "execution_count": 27,
   "id": "41ae67c5",
   "metadata": {},
   "outputs": [
    {
     "name": "stdout",
     "output_type": "stream",
     "text": [
      "Model: \"sequential\"\n",
      "_________________________________________________________________\n",
      " Layer (type)                Output Shape              Param #   \n",
      "=================================================================\n",
      " embedding_1 (Embedding)     (None, 300, 40)           200000    \n",
      "                                                                 \n",
      " bidirectional (Bidirectiona  (None, 40)               9760      \n",
      " l)                                                              \n",
      "                                                                 \n",
      " dense (Dense)               (None, 3)                 123       \n",
      "                                                                 \n",
      "=================================================================\n",
      "Total params: 209,883\n",
      "Trainable params: 209,883\n",
      "Non-trainable params: 0\n",
      "_________________________________________________________________\n"
     ]
    }
   ],
   "source": [
    "model.compile(optimizer='adam',loss='categorical_crossentropy', metrics=['accuracy'])\n",
    "model.summary()"
   ]
  },
  {
   "cell_type": "code",
   "execution_count": 28,
   "id": "36807abf",
   "metadata": {},
   "outputs": [
    {
     "name": "stdout",
     "output_type": "stream",
     "text": [
      "Epoch 1/10\n",
      "191/191 [==============================] - 44s 195ms/step - loss: 0.6024 - accuracy: 0.8139 - val_loss: 0.5141 - val_accuracy: 0.7736\n",
      "Epoch 2/10\n",
      "191/191 [==============================] - 35s 182ms/step - loss: 0.3734 - accuracy: 0.8518 - val_loss: 0.4771 - val_accuracy: 0.8176\n",
      "Epoch 3/10\n",
      "191/191 [==============================] - 37s 191ms/step - loss: 0.2958 - accuracy: 0.8805 - val_loss: 0.4753 - val_accuracy: 0.8209\n",
      "Epoch 4/10\n",
      "191/191 [==============================] - 36s 188ms/step - loss: 0.2559 - accuracy: 0.8926 - val_loss: 0.6206 - val_accuracy: 0.8209\n",
      "Epoch 5/10\n",
      "191/191 [==============================] - 34s 176ms/step - loss: 0.2278 - accuracy: 0.9073 - val_loss: 0.6071 - val_accuracy: 0.8189\n",
      "Epoch 6/10\n",
      "191/191 [==============================] - 36s 188ms/step - loss: 0.1969 - accuracy: 0.9176 - val_loss: 0.7055 - val_accuracy: 0.8222\n",
      "Epoch 7/10\n",
      "191/191 [==============================] - 35s 184ms/step - loss: 0.1722 - accuracy: 0.9340 - val_loss: 0.6922 - val_accuracy: 0.8156\n",
      "Epoch 8/10\n",
      "191/191 [==============================] - 39s 204ms/step - loss: 0.1546 - accuracy: 0.9425 - val_loss: 0.6865 - val_accuracy: 0.8077\n",
      "Epoch 9/10\n",
      "191/191 [==============================] - 36s 188ms/step - loss: 0.1363 - accuracy: 0.9501 - val_loss: 0.7269 - val_accuracy: 0.7992\n",
      "Epoch 10/10\n",
      "191/191 [==============================] - 38s 199ms/step - loss: 0.1090 - accuracy: 0.9624 - val_loss: 0.9217 - val_accuracy: 0.8045\n"
     ]
    }
   ],
   "source": [
    "#fit he model and spilt data in train set and validation 80% and 20%\n",
    "history = model.fit(x = reviews, y= feedback , epochs=10,validation_split=0.2)"
   ]
  },
  {
   "cell_type": "markdown",
   "id": "7b1c083d",
   "metadata": {},
   "source": [
    "# 4. Evaluation"
   ]
  },
  {
   "cell_type": "markdown",
   "id": "c15ea4ca",
   "metadata": {},
   "source": [
    "On the next charts, we can asses how our model performs and accurancy of the prediction"
   ]
  },
  {
   "cell_type": "code",
   "execution_count": 29,
   "id": "1802907b",
   "metadata": {},
   "outputs": [
    {
     "data": {
      "image/png": "[encoded data removed]",
      "text/plain": [
       "<Figure size 432x288 with 1 Axes>"
      ]
     },
     "metadata": {
      "needs_background": "light"
     },
     "output_type": "display_data"
    }
   ],
   "source": [
    "plt.plot(history.history['loss'])\n",
    "plt.plot(history.history['val_loss'])\n",
    "plt.title('Loss')\n",
    "plt.ylabel('loss')\n",
    "plt.xlabel('epoch')\n",
    "plt.legend(['train', 'validation'], loc='upper left')\n",
    "plt.show()"
   ]
  },
  {
   "cell_type": "code",
   "execution_count": 30,
   "id": "896b546c",
   "metadata": {},
   "outputs": [
    {
     "data": {
      "image/png": "[encoded data removed]",
      "text/plain": [
       "<Figure size 432x288 with 1 Axes>"
      ]
     },
     "metadata": {
      "needs_background": "light"
     },
     "output_type": "display_data"
    }
   ],
   "source": [
    "plt.plot(history.history['accuracy'])\n",
    "plt.plot(history.history['val_accuracy'])\n",
    "plt.title('Accuracy')\n",
    "plt.ylabel('Accuracy')\n",
    "plt.xlabel('epoch')\n",
    "plt.legend(['train', 'validation'], loc='upper left')\n",
    "plt.show()"
   ]
  },
  {
   "cell_type": "markdown",
   "id": "654b86ed",
   "metadata": {},
   "source": [
    "We see , that our model shows pretty good result. Our train accurancy is high around 95% and test peak is 82%.\n",
    "Nevertheless it should be improved, because there is overfitting in the system and it may have an impact on the performance "
   ]
  },
  {
   "cell_type": "markdown",
   "id": "be6ec189",
   "metadata": {},
   "source": [
    "# 5. Summary"
   ]
  },
  {
   "cell_type": "markdown",
   "id": "2107c091",
   "metadata": {},
   "source": [
    "Lets test our model"
   ]
  },
  {
   "cell_type": "code",
   "execution_count": 35,
   "id": "a480ef8a",
   "metadata": {},
   "outputs": [
    {
     "name": "stdout",
     "output_type": "stream",
     "text": [
      "1/1 [==============================] - 0s 46ms/step\n"
     ]
    },
    {
     "data": {
      "text/plain": [
       "'Negative'"
      ]
     },
     "execution_count": 35,
     "metadata": {},
     "output_type": "execute_result"
    }
   ],
   "source": [
    "sentiment = ['Neutral','Negative','Positive']\n",
    "sequence = tokenizer.texts_to_sequences(['very bad'])\n",
    "test = pad_sequences(sequence, maxlen=max_len)\n",
    "sentiment[np.around(model.predict(test), decimals=0).argmax(axis=1)[0]]"
   ]
  },
  {
   "cell_type": "code",
   "execution_count": 32,
   "id": "d328b52e",
   "metadata": {},
   "outputs": [
    {
     "name": "stdout",
     "output_type": "stream",
     "text": [
      "1/1 [==============================] - 0s 44ms/step\n"
     ]
    },
    {
     "data": {
      "text/plain": [
       "'Positive'"
      ]
     },
     "execution_count": 32,
     "metadata": {},
     "output_type": "execute_result"
    }
   ],
   "source": [
    "sequence = tokenizer.texts_to_sequences(['Amazing place, good location'])\n",
    "test = pad_sequences(sequence, maxlen=max_len)\n",
    "sentiment[np.around(model.predict(test), decimals=0).argmax(axis=1)[0]]"
   ]
  },
  {
   "cell_type": "code",
   "execution_count": 34,
   "id": "c9049e6f",
   "metadata": {},
   "outputs": [
    {
     "name": "stdout",
     "output_type": "stream",
     "text": [
      "1/1 [==============================] - 0s 44ms/step\n"
     ]
    },
    {
     "data": {
      "text/plain": [
       "'Neutral'"
      ]
     },
     "execution_count": 34,
     "metadata": {},
     "output_type": "execute_result"
    }
   ],
   "source": [
    "sequence = tokenizer.texts_to_sequences(['noithing special'])\n",
    "test = pad_sequences(sequence, maxlen=max_len)\n",
    "sentiment[np.around(model.predict(test), decimals=0).argmax(axis=1)[0]]"
   ]
  },
  {
   "cell_type": "markdown",
   "id": "fec53e19",
   "metadata": {},
   "source": [
    "We can see that our model shows good result and from text we can easily understand if it is postive or negative feedback.\n",
    "Also, looking on the data distrubution most of reviews are positive and people are satisfited with the place and probaly they will come back or recommend this coffee places"
   ]
  },
  {
   "cell_type": "markdown",
   "id": "d69433fd",
   "metadata": {},
   "source": [
    "Looking on the lenght of the reviews, usually people leave a short feedback( no more than 100 letters )"
   ]
  },
  {
   "cell_type": "markdown",
   "id": "2af61ea8",
   "metadata": {},
   "source": [
    "Summiraze the result, the targget of the project was achieved, we create a model that can recognize reviews and give an assesment of it  "
   ]
  }
 ],
 "metadata": {
  "kernelspec": {
   "display_name": "Python 3",
   "language": "python",
   "name": "python3"
  },
  "language_info": {
   "codemirror_mode": {
    "name": "ipython",
    "version": 3
   },
   "file_extension": ".py",
   "mimetype": "text/x-python",
   "name": "python",
   "nbconvert_exporter": "python",
   "pygments_lexer": "ipython3",
   "version": "3.8.8"
  }
 },
 "nbformat": 4,
 "nbformat_minor": 5
}
