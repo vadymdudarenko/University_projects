{
 "cells": [
  {
   "cell_type": "markdown",
   "id": "e1a8c680",
   "metadata": {},
   "source": [
    "# Movie genre classification \n",
    "Vadym Dudarenko 444820"
   ]
  },
  {
   "cell_type": "code",
   "execution_count": 4,
   "id": "325445b3",
   "metadata": {},
   "outputs": [],
   "source": [
    "#import necessary packagies\n",
    "from bs4 import BeautifulSoup\n",
    "from sklearn.metrics import classification_report, confusion_matrix, roc_curve, roc_auc_score,auc, accuracy_score\n",
    "from sklearn.model_selection import train_test_split\n",
    "from sklearn import datasets\n",
    "from tensorflow.keras.preprocessing import sequence\n",
    "from sklearn.datasets import fetch_20newsgroups\n",
    "from tensorflow.keras.preprocessing.text import Tokenizer\n",
    "from tensorflow.keras.models import Sequential, Model\n",
    "from tensorflow.keras.layers import Input, Dense, Embedding, Conv1D, AveragePool1D, Dropout, SimpleRNN, LSTM\n",
    "from tensorflow.keras.layers import Flatten\n",
    "from tensorflow.keras.preprocessing import sequence\n",
    "import numpy as np\n",
    "import string\n",
    "import re\n",
    "from sklearn.metrics import precision_score, recall_score, f1_score\n",
    "from keras.layers import InputLayer, Conv1D, Dense, Flatten, MaxPooling1D\n",
    "from keras.models import Sequential\n",
    "from tensorflow.keras.preprocessing.sequence import pad_sequences\n",
    "from keras import layers\n",
    "from keras import models\n",
    "import numpy as np\n",
    "import tensorflow as tf\n",
    "import pandas as pd\n",
    "import matplotlib.pyplot as plt\n",
    "import seaborn as sns\n",
    "from sklearn.preprocessing import StandardScaler\n",
    "from sklearn.model_selection import train_test_split\n",
    "from sklearn.metrics import classification_report\n",
    "from sklearn.model_selection import GridSearchCV\n",
    "from tensorflow.keras.wrappers.scikit_learn import KerasClassifier\n",
    "from tensorflow.keras.layers import Dense, Flatten, LSTM, Bidirectional, Input, Dropout, InputLayer, BatchNormalization\n",
    "from tensorflow.keras import Model\n",
    "from tensorflow.keras.callbacks import EarlyStopping\n",
    "from tensorflow.keras.models import Sequential"
   ]
  },
  {
   "cell_type": "code",
   "execution_count": 5,
   "id": "e448c181",
   "metadata": {},
   "outputs": [],
   "source": [
    "#import the dataset\n",
    "df= pd.read_json(\"C:\\\\Users\\\\Vadym\\\\Desktop\\\\ML 2\\\\project\\\\movies_dataset_from_allmovie.json\")"
   ]
  },
  {
   "cell_type": "markdown",
   "id": "72641f3c",
   "metadata": {},
   "source": [
    "# DATA PREPARATION"
   ]
  },
  {
   "cell_type": "code",
   "execution_count": 730,
   "id": "c72f84c9",
   "metadata": {},
   "outputs": [
    {
     "data": {
      "text/html": [
       "<div>\n",
       "<style scoped>\n",
       "    .dataframe tbody tr th:only-of-type {\n",
       "        vertical-align: middle;\n",
       "    }\n",
       "\n",
       "    .dataframe tbody tr th {\n",
       "        vertical-align: top;\n",
       "    }\n",
       "\n",
       "    .dataframe thead th {\n",
       "        text-align: right;\n",
       "    }\n",
       "</style>\n",
       "<table border=\"1\" class=\"dataframe\">\n",
       "  <thead>\n",
       "    <tr style=\"text-align: right;\">\n",
       "      <th></th>\n",
       "      <th>name</th>\n",
       "      <th>genre</th>\n",
       "      <th>released_at</th>\n",
       "      <th>poster</th>\n",
       "      <th>language</th>\n",
       "      <th>director</th>\n",
       "      <th>domain</th>\n",
       "      <th>duration</th>\n",
       "      <th>synopsis</th>\n",
       "      <th>trailer</th>\n",
       "      <th>average_rating</th>\n",
       "      <th>cast</th>\n",
       "      <th>crawled_at</th>\n",
       "      <th>url</th>\n",
       "      <th>_id</th>\n",
       "    </tr>\n",
       "  </thead>\n",
       "  <tbody>\n",
       "    <tr>\n",
       "      <th>0</th>\n",
       "      <td>10 Days, 10 Years: Nicaraguan Elections of 1990</td>\n",
       "      <td>Culture &amp;amp; Society</td>\n",
       "      <td>1990-01-01</td>\n",
       "      <td></td>\n",
       "      <td></td>\n",
       "      <td></td>\n",
       "      <td>https://www.allmovie.com/</td>\n",
       "      <td>0H54M</td>\n",
       "      <td></td>\n",
       "      <td></td>\n",
       "      <td></td>\n",
       "      <td></td>\n",
       "      <td>2021-05-02 20:30:28</td>\n",
       "      <td>https://www.allmovie.com/movie/10-days-10-year...</td>\n",
       "      <td>72706835-65b7-5559-9d16-73c43b2667bd</td>\n",
       "    </tr>\n",
       "    <tr>\n",
       "      <th>1</th>\n",
       "      <td>1-2-3 Magic: Effective Discipline for Children</td>\n",
       "      <td>Education</td>\n",
       "      <td>1990-01-01</td>\n",
       "      <td></td>\n",
       "      <td>English</td>\n",
       "      <td></td>\n",
       "      <td>https://www.allmovie.com/</td>\n",
       "      <td>2H0M</td>\n",
       "      <td>Presented by clinical psychiatrist Thomas Phel...</td>\n",
       "      <td></td>\n",
       "      <td></td>\n",
       "      <td></td>\n",
       "      <td>2021-05-02 20:30:29</td>\n",
       "      <td>https://www.allmovie.com/movie/1-2-3-magic-eff...</td>\n",
       "      <td>81e8678a-1cf5-58d7-ae5e-1b6ae80d0835</td>\n",
       "    </tr>\n",
       "    <tr>\n",
       "      <th>2</th>\n",
       "      <td>10 Keys to Personal Power</td>\n",
       "      <td>Business</td>\n",
       "      <td>NaT</td>\n",
       "      <td></td>\n",
       "      <td></td>\n",
       "      <td></td>\n",
       "      <td>https://www.allmovie.com/</td>\n",
       "      <td>1H4M</td>\n",
       "      <td></td>\n",
       "      <td></td>\n",
       "      <td></td>\n",
       "      <td></td>\n",
       "      <td>2021-05-02 20:30:29</td>\n",
       "      <td>https://www.allmovie.com/movie/10-keys-to-pers...</td>\n",
       "      <td>0d09f252-ca38-5e85-8d5f-a91a3f32dc4c</td>\n",
       "    </tr>\n",
       "    <tr>\n",
       "      <th>3</th>\n",
       "      <td>10,000 Maniacs: Time Capsule 1982-1990</td>\n",
       "      <td>Music</td>\n",
       "      <td>1990-01-01</td>\n",
       "      <td>https://cps-static.rovicorp.com/1/avg/cov310/d...</td>\n",
       "      <td>English</td>\n",
       "      <td></td>\n",
       "      <td>https://www.allmovie.com/</td>\n",
       "      <td>0H58M</td>\n",
       "      <td>With their thoughtful folk rock sound and lyri...</td>\n",
       "      <td></td>\n",
       "      <td></td>\n",
       "      <td></td>\n",
       "      <td>2021-05-02 20:30:29</td>\n",
       "      <td>https://www.allmovie.com/movie/10000-maniacs-t...</td>\n",
       "      <td>5b8e0dbb-3b48-5600-a544-651f9020245d</td>\n",
       "    </tr>\n",
       "    <tr>\n",
       "      <th>4</th>\n",
       "      <td>10 Rillington Place</td>\n",
       "      <td>Crime, Drama</td>\n",
       "      <td>1971-02-10</td>\n",
       "      <td>https://cps-static.rovicorp.com/2/Open/Sony%20...</td>\n",
       "      <td>English</td>\n",
       "      <td>Richard Fleischer</td>\n",
       "      <td>https://www.allmovie.com/</td>\n",
       "      <td>1H51M</td>\n",
       "      <td>10 Rillington Place is the true story of Briti...</td>\n",
       "      <td>https://video.internetvideoarchive.net/video.m...</td>\n",
       "      <td>8.1</td>\n",
       "      <td>10 Rillington Place, Richard Attenborough, Jud...</td>\n",
       "      <td>2021-05-02 20:30:29</td>\n",
       "      <td>https://www.allmovie.com/movie/10-rillington-p...</td>\n",
       "      <td>2b5d82ef-2429-52fb-b5ab-ffbd7ede3c3b</td>\n",
       "    </tr>\n",
       "  </tbody>\n",
       "</table>\n",
       "</div>"
      ],
      "text/plain": [
       "                                              name                  genre  \\\n",
       "0  10 Days, 10 Years: Nicaraguan Elections of 1990  Culture &amp; Society   \n",
       "1   1-2-3 Magic: Effective Discipline for Children              Education   \n",
       "2                        10 Keys to Personal Power               Business   \n",
       "3           10,000 Maniacs: Time Capsule 1982-1990                  Music   \n",
       "4                              10 Rillington Place           Crime, Drama   \n",
       "\n",
       "  released_at                                             poster language  \\\n",
       "0  1990-01-01                                                               \n",
       "1  1990-01-01                                                     English   \n",
       "2         NaT                                                               \n",
       "3  1990-01-01  https://cps-static.rovicorp.com/1/avg/cov310/d...  English   \n",
       "4  1971-02-10  https://cps-static.rovicorp.com/2/Open/Sony%20...  English   \n",
       "\n",
       "            director                     domain duration  \\\n",
       "0                     https://www.allmovie.com/    0H54M   \n",
       "1                     https://www.allmovie.com/     2H0M   \n",
       "2                     https://www.allmovie.com/     1H4M   \n",
       "3                     https://www.allmovie.com/    0H58M   \n",
       "4  Richard Fleischer  https://www.allmovie.com/    1H51M   \n",
       "\n",
       "                                            synopsis  \\\n",
       "0                                                      \n",
       "1  Presented by clinical psychiatrist Thomas Phel...   \n",
       "2                                                      \n",
       "3  With their thoughtful folk rock sound and lyri...   \n",
       "4  10 Rillington Place is the true story of Briti...   \n",
       "\n",
       "                                             trailer average_rating  \\\n",
       "0                                                                     \n",
       "1                                                                     \n",
       "2                                                                     \n",
       "3                                                                     \n",
       "4  https://video.internetvideoarchive.net/video.m...            8.1   \n",
       "\n",
       "                                                cast          crawled_at  \\\n",
       "0                                                    2021-05-02 20:30:28   \n",
       "1                                                    2021-05-02 20:30:29   \n",
       "2                                                    2021-05-02 20:30:29   \n",
       "3                                                    2021-05-02 20:30:29   \n",
       "4  10 Rillington Place, Richard Attenborough, Jud... 2021-05-02 20:30:29   \n",
       "\n",
       "                                                 url  \\\n",
       "0  https://www.allmovie.com/movie/10-days-10-year...   \n",
       "1  https://www.allmovie.com/movie/1-2-3-magic-eff...   \n",
       "2  https://www.allmovie.com/movie/10-keys-to-pers...   \n",
       "3  https://www.allmovie.com/movie/10000-maniacs-t...   \n",
       "4  https://www.allmovie.com/movie/10-rillington-p...   \n",
       "\n",
       "                                    _id  \n",
       "0  72706835-65b7-5559-9d16-73c43b2667bd  \n",
       "1  81e8678a-1cf5-58d7-ae5e-1b6ae80d0835  \n",
       "2  0d09f252-ca38-5e85-8d5f-a91a3f32dc4c  \n",
       "3  5b8e0dbb-3b48-5600-a544-651f9020245d  \n",
       "4  2b5d82ef-2429-52fb-b5ab-ffbd7ede3c3b  "
      ]
     },
     "execution_count": 730,
     "metadata": {},
     "output_type": "execute_result"
    }
   ],
   "source": [
    "#Lets see a head of our dataset\n",
    "df.head(5)"
   ]
  },
  {
   "cell_type": "code",
   "execution_count": 731,
   "id": "e0f9b0ba",
   "metadata": {},
   "outputs": [],
   "source": [
    "#Drop unnecessary columns\n",
    "df.drop(['poster', 'released_at', 'language', 'domain', 'duration', 'trailer', 'average_rating' , 'cast',\n",
    "          'crawled_at', 'url', '_id', 'director'],  axis=1, inplace = True)"
   ]
  },
  {
   "cell_type": "code",
   "execution_count": 732,
   "id": "179a30f4",
   "metadata": {},
   "outputs": [],
   "source": [
    "#lets calculate number of letters in each synopsis \n",
    "df['length']=df['synopsis'].apply(len)"
   ]
  },
  {
   "cell_type": "code",
   "execution_count": 733,
   "id": "209cacd3",
   "metadata": {},
   "outputs": [
    {
     "data": {
      "text/plain": [
       "Drama                                       991\n",
       "Music                                       863\n",
       "Comedy                                      657\n",
       "Sports &amp; Recreation                     501\n",
       "History                                     463\n",
       "                                           ... \n",
       "Action, Horror, Science Fiction, Western      1\n",
       "Dance, Musical, Mystery                       1\n",
       "Drama, Romance, Western                       1\n",
       "Fantasy, Adventure                            1\n",
       "Romance, Comedy Drama                         1\n",
       "Name: genre, Length: 590, dtype: int64"
      ]
     },
     "execution_count": 733,
     "metadata": {},
     "output_type": "execute_result"
    }
   ],
   "source": [
    "df.genre.value_counts()"
   ]
  },
  {
   "cell_type": "code",
   "execution_count": 808,
   "id": "dd573052",
   "metadata": {},
   "outputs": [
    {
     "data": {
      "text/plain": [
       "<AxesSubplot:ylabel='Frequency'>"
      ]
     },
     "execution_count": 808,
     "metadata": {},
     "output_type": "execute_result"
    },
    {
     "data": {
      "image/png": "[encoded data removed]",
      "text/plain": [
       "<Figure size 432x288 with 1 Axes>"
      ]
     },
     "metadata": {},
     "output_type": "display_data"
    }
   ],
   "source": [
    "df['length'].plot(bins=100, kind='hist')"
   ]
  },
  {
   "cell_type": "code",
   "execution_count": 810,
   "id": "8d1618d6",
   "metadata": {},
   "outputs": [
    {
     "data": {
      "text/plain": [
       "<AxesSubplot:xlabel='genre', ylabel='count'>"
      ]
     },
     "execution_count": 810,
     "metadata": {},
     "output_type": "execute_result"
    },
    {
     "data": {
      "image/png": "[encoded data removed]",
      "text/plain": [
       "<Figure size 432x288 with 1 Axes>"
      ]
     },
     "metadata": {},
     "output_type": "display_data"
    }
   ],
   "source": [
    "sns.countplot(x='genre', data=df, order=pd.value_counts(df['genre']).iloc[:10].index) "
   ]
  },
  {
   "cell_type": "code",
   "execution_count": 734,
   "id": "5c69898d",
   "metadata": {},
   "outputs": [
    {
     "data": {
      "text/html": [
       "<div>\n",
       "<style scoped>\n",
       "    .dataframe tbody tr th:only-of-type {\n",
       "        vertical-align: middle;\n",
       "    }\n",
       "\n",
       "    .dataframe tbody tr th {\n",
       "        vertical-align: top;\n",
       "    }\n",
       "\n",
       "    .dataframe thead th {\n",
       "        text-align: right;\n",
       "    }\n",
       "</style>\n",
       "<table border=\"1\" class=\"dataframe\">\n",
       "  <thead>\n",
       "    <tr style=\"text-align: right;\">\n",
       "      <th></th>\n",
       "      <th>name</th>\n",
       "      <th>genre</th>\n",
       "      <th>synopsis</th>\n",
       "      <th>length</th>\n",
       "    </tr>\n",
       "  </thead>\n",
       "  <tbody>\n",
       "    <tr>\n",
       "      <th>0</th>\n",
       "      <td>10 Days, 10 Years: Nicaraguan Elections of 1990</td>\n",
       "      <td>Culture &amp;amp; Society</td>\n",
       "      <td></td>\n",
       "      <td>NaN</td>\n",
       "    </tr>\n",
       "    <tr>\n",
       "      <th>1</th>\n",
       "      <td>1-2-3 Magic: Effective Discipline for Children</td>\n",
       "      <td>Education</td>\n",
       "      <td>Presented by clinical psychiatrist Thomas Phel...</td>\n",
       "      <td>367.0</td>\n",
       "    </tr>\n",
       "    <tr>\n",
       "      <th>2</th>\n",
       "      <td>10 Keys to Personal Power</td>\n",
       "      <td>Business</td>\n",
       "      <td></td>\n",
       "      <td>NaN</td>\n",
       "    </tr>\n",
       "    <tr>\n",
       "      <th>3</th>\n",
       "      <td>10,000 Maniacs: Time Capsule 1982-1990</td>\n",
       "      <td>Music</td>\n",
       "      <td>With their thoughtful folk rock sound and lyri...</td>\n",
       "      <td>638.0</td>\n",
       "    </tr>\n",
       "    <tr>\n",
       "      <th>4</th>\n",
       "      <td>10 Rillington Place</td>\n",
       "      <td>Crime, Drama</td>\n",
       "      <td>10 Rillington Place is the true story of Briti...</td>\n",
       "      <td>597.0</td>\n",
       "    </tr>\n",
       "    <tr>\n",
       "      <th>...</th>\n",
       "      <td>...</td>\n",
       "      <td>...</td>\n",
       "      <td>...</td>\n",
       "      <td>...</td>\n",
       "    </tr>\n",
       "    <tr>\n",
       "      <th>10519</th>\n",
       "      <td>Feud of the West</td>\n",
       "      <td>Action, Adventure, Western</td>\n",
       "      <td>Neither the best nor worst of Hoot Gibson's we...</td>\n",
       "      <td>720.0</td>\n",
       "    </tr>\n",
       "    <tr>\n",
       "      <th>10520</th>\n",
       "      <td>Feud of the Trail</td>\n",
       "      <td>Action, Western</td>\n",
       "      <td>Produced back-to-back with Mystery Range (1937...</td>\n",
       "      <td>876.0</td>\n",
       "    </tr>\n",
       "    <tr>\n",
       "      <th>10521</th>\n",
       "      <td>Fever</td>\n",
       "      <td>Mystery</td>\n",
       "      <td>Here's the &amp;quot;dramatis personae&amp;quot; of Th...</td>\n",
       "      <td>505.0</td>\n",
       "    </tr>\n",
       "    <tr>\n",
       "      <th>10522</th>\n",
       "      <td>Fever</td>\n",
       "      <td>Thriller</td>\n",
       "      <td>In this violent made-for cable actioner, a pai...</td>\n",
       "      <td>169.0</td>\n",
       "    </tr>\n",
       "    <tr>\n",
       "      <th>10523</th>\n",
       "      <td>La fièvre monte à El Pao</td>\n",
       "      <td>Drama</td>\n",
       "      <td>A moral decay leading to revolution is paralle...</td>\n",
       "      <td>722.0</td>\n",
       "    </tr>\n",
       "  </tbody>\n",
       "</table>\n",
       "<p>10524 rows × 4 columns</p>\n",
       "</div>"
      ],
      "text/plain": [
       "                                                  name  \\\n",
       "0      10 Days, 10 Years: Nicaraguan Elections of 1990   \n",
       "1       1-2-3 Magic: Effective Discipline for Children   \n",
       "2                            10 Keys to Personal Power   \n",
       "3               10,000 Maniacs: Time Capsule 1982-1990   \n",
       "4                                  10 Rillington Place   \n",
       "...                                                ...   \n",
       "10519                                 Feud of the West   \n",
       "10520                                Feud of the Trail   \n",
       "10521                                            Fever   \n",
       "10522                                            Fever   \n",
       "10523                         La fièvre monte à El Pao   \n",
       "\n",
       "                            genre  \\\n",
       "0           Culture &amp; Society   \n",
       "1                       Education   \n",
       "2                        Business   \n",
       "3                           Music   \n",
       "4                    Crime, Drama   \n",
       "...                           ...   \n",
       "10519  Action, Adventure, Western   \n",
       "10520             Action, Western   \n",
       "10521                     Mystery   \n",
       "10522                    Thriller   \n",
       "10523                       Drama   \n",
       "\n",
       "                                                synopsis  length  \n",
       "0                                                            NaN  \n",
       "1      Presented by clinical psychiatrist Thomas Phel...   367.0  \n",
       "2                                                            NaN  \n",
       "3      With their thoughtful folk rock sound and lyri...   638.0  \n",
       "4      10 Rillington Place is the true story of Briti...   597.0  \n",
       "...                                                  ...     ...  \n",
       "10519  Neither the best nor worst of Hoot Gibson's we...   720.0  \n",
       "10520  Produced back-to-back with Mystery Range (1937...   876.0  \n",
       "10521  Here's the &quot;dramatis personae&quot; of Th...   505.0  \n",
       "10522  In this violent made-for cable actioner, a pai...   169.0  \n",
       "10523  A moral decay leading to revolution is paralle...   722.0  \n",
       "\n",
       "[10524 rows x 4 columns]"
      ]
     },
     "execution_count": 734,
     "metadata": {},
     "output_type": "execute_result"
    }
   ],
   "source": [
    "#replaceing 0 values with Nan\n",
    "df.replace(0, np.nan, inplace=True)\n",
    "df"
   ]
  },
  {
   "cell_type": "code",
   "execution_count": 735,
   "id": "dfcc3b5a",
   "metadata": {},
   "outputs": [],
   "source": [
    "#Drop all rows with Nan values \n",
    "df.dropna(inplace=True)"
   ]
  },
  {
   "cell_type": "code",
   "execution_count": 736,
   "id": "9b97f1fa",
   "metadata": {},
   "outputs": [
    {
     "data": {
      "text/html": [
       "<div>\n",
       "<style scoped>\n",
       "    .dataframe tbody tr th:only-of-type {\n",
       "        vertical-align: middle;\n",
       "    }\n",
       "\n",
       "    .dataframe tbody tr th {\n",
       "        vertical-align: top;\n",
       "    }\n",
       "\n",
       "    .dataframe thead th {\n",
       "        text-align: right;\n",
       "    }\n",
       "</style>\n",
       "<table border=\"1\" class=\"dataframe\">\n",
       "  <thead>\n",
       "    <tr style=\"text-align: right;\">\n",
       "      <th></th>\n",
       "      <th>name</th>\n",
       "      <th>genre</th>\n",
       "      <th>synopsis</th>\n",
       "      <th>length</th>\n",
       "    </tr>\n",
       "  </thead>\n",
       "  <tbody>\n",
       "    <tr>\n",
       "      <th>1</th>\n",
       "      <td>1-2-3 Magic: Effective Discipline for Children</td>\n",
       "      <td>Education</td>\n",
       "      <td>Presented by clinical psychiatrist Thomas Phel...</td>\n",
       "      <td>367.0</td>\n",
       "    </tr>\n",
       "    <tr>\n",
       "      <th>3</th>\n",
       "      <td>10,000 Maniacs: Time Capsule 1982-1990</td>\n",
       "      <td>Music</td>\n",
       "      <td>With their thoughtful folk rock sound and lyri...</td>\n",
       "      <td>638.0</td>\n",
       "    </tr>\n",
       "    <tr>\n",
       "      <th>4</th>\n",
       "      <td>10 Rillington Place</td>\n",
       "      <td>Crime, Drama</td>\n",
       "      <td>10 Rillington Place is the true story of Briti...</td>\n",
       "      <td>597.0</td>\n",
       "    </tr>\n",
       "    <tr>\n",
       "      <th>5</th>\n",
       "      <td>10 Violent Women</td>\n",
       "      <td>Action, Crime</td>\n",
       "      <td>This women's prison drama from exploitation fi...</td>\n",
       "      <td>570.0</td>\n",
       "    </tr>\n",
       "    <tr>\n",
       "      <th>6</th>\n",
       "      <td>10</td>\n",
       "      <td>Comedy</td>\n",
       "      <td>Blake Edwards' 10 stars Dudley Moore as George...</td>\n",
       "      <td>783.0</td>\n",
       "    </tr>\n",
       "    <tr>\n",
       "      <th>...</th>\n",
       "      <td>...</td>\n",
       "      <td>...</td>\n",
       "      <td>...</td>\n",
       "      <td>...</td>\n",
       "    </tr>\n",
       "    <tr>\n",
       "      <th>10519</th>\n",
       "      <td>Feud of the West</td>\n",
       "      <td>Action, Adventure, Western</td>\n",
       "      <td>Neither the best nor worst of Hoot Gibson's we...</td>\n",
       "      <td>720.0</td>\n",
       "    </tr>\n",
       "    <tr>\n",
       "      <th>10520</th>\n",
       "      <td>Feud of the Trail</td>\n",
       "      <td>Action, Western</td>\n",
       "      <td>Produced back-to-back with Mystery Range (1937...</td>\n",
       "      <td>876.0</td>\n",
       "    </tr>\n",
       "    <tr>\n",
       "      <th>10521</th>\n",
       "      <td>Fever</td>\n",
       "      <td>Mystery</td>\n",
       "      <td>Here's the &amp;quot;dramatis personae&amp;quot; of Th...</td>\n",
       "      <td>505.0</td>\n",
       "    </tr>\n",
       "    <tr>\n",
       "      <th>10522</th>\n",
       "      <td>Fever</td>\n",
       "      <td>Thriller</td>\n",
       "      <td>In this violent made-for cable actioner, a pai...</td>\n",
       "      <td>169.0</td>\n",
       "    </tr>\n",
       "    <tr>\n",
       "      <th>10523</th>\n",
       "      <td>La fièvre monte à El Pao</td>\n",
       "      <td>Drama</td>\n",
       "      <td>A moral decay leading to revolution is paralle...</td>\n",
       "      <td>722.0</td>\n",
       "    </tr>\n",
       "  </tbody>\n",
       "</table>\n",
       "<p>6604 rows × 4 columns</p>\n",
       "</div>"
      ],
      "text/plain": [
       "                                                 name  \\\n",
       "1      1-2-3 Magic: Effective Discipline for Children   \n",
       "3              10,000 Maniacs: Time Capsule 1982-1990   \n",
       "4                                 10 Rillington Place   \n",
       "5                                    10 Violent Women   \n",
       "6                                                  10   \n",
       "...                                               ...   \n",
       "10519                                Feud of the West   \n",
       "10520                               Feud of the Trail   \n",
       "10521                                           Fever   \n",
       "10522                                           Fever   \n",
       "10523                        La fièvre monte à El Pao   \n",
       "\n",
       "                            genre  \\\n",
       "1                       Education   \n",
       "3                           Music   \n",
       "4                    Crime, Drama   \n",
       "5                   Action, Crime   \n",
       "6                          Comedy   \n",
       "...                           ...   \n",
       "10519  Action, Adventure, Western   \n",
       "10520             Action, Western   \n",
       "10521                     Mystery   \n",
       "10522                    Thriller   \n",
       "10523                       Drama   \n",
       "\n",
       "                                                synopsis  length  \n",
       "1      Presented by clinical psychiatrist Thomas Phel...   367.0  \n",
       "3      With their thoughtful folk rock sound and lyri...   638.0  \n",
       "4      10 Rillington Place is the true story of Briti...   597.0  \n",
       "5      This women's prison drama from exploitation fi...   570.0  \n",
       "6      Blake Edwards' 10 stars Dudley Moore as George...   783.0  \n",
       "...                                                  ...     ...  \n",
       "10519  Neither the best nor worst of Hoot Gibson's we...   720.0  \n",
       "10520  Produced back-to-back with Mystery Range (1937...   876.0  \n",
       "10521  Here's the &quot;dramatis personae&quot; of Th...   505.0  \n",
       "10522  In this violent made-for cable actioner, a pai...   169.0  \n",
       "10523  A moral decay leading to revolution is paralle...   722.0  \n",
       "\n",
       "[6604 rows x 4 columns]"
      ]
     },
     "execution_count": 736,
     "metadata": {},
     "output_type": "execute_result"
    }
   ],
   "source": [
    "df"
   ]
  },
  {
   "cell_type": "code",
   "execution_count": 737,
   "id": "0e4edd7e",
   "metadata": {},
   "outputs": [],
   "source": [
    "#cleaning our synopsis(description). Remove all stop-words\n",
    "def decontracted(phrase):\n",
    "    # specific\n",
    "    phrase = re.sub(r\"won't\", \"will not\", phrase)\n",
    "    phrase = re.sub(r\"can\\'t\", \"can not\", phrase)\n",
    "\n",
    "    # general\n",
    "    phrase = re.sub(r\"n\\'t\", \" not\", phrase)\n",
    "    phrase = re.sub(r\"\\'re\", \" are\", phrase)\n",
    "    phrase = re.sub(r\"\\'s\", \" is\", phrase)\n",
    "    phrase = re.sub(r\"\\'d\", \" would\", phrase)\n",
    "    phrase = re.sub(r\"\\'ll\", \" will\", phrase)\n",
    "    phrase = re.sub(r\"\\'t\", \" not\", phrase)\n",
    "    phrase = re.sub(r\"\\'ve\", \" have\", phrase)\n",
    "    phrase = re.sub(r\"\\'m\", \" am\", phrase)\n",
    "    return phrase\n",
    "stopwords= set(['br', 'the', 'i', 'me', 'my', 'myself', 'we', 'our', 'ours', 'ourselves', 'you', \"you're\", \"you've\",\\\n",
    "            \"you'll\", \"you'd\", 'your', 'yours', 'yourself', 'yourselves', 'he', 'him', 'his', 'himself', \\\n",
    "            'she', \"she's\", 'her', 'hers', 'herself', 'it', \"it's\", 'its', 'itself', 'they', 'them', 'their',\\\n",
    "            'theirs', 'themselves', 'what', 'which', 'who', 'whom', 'this', 'that', \"that'll\", 'these', 'those', \\\n",
    "            'am', 'is', 'are', 'was', 'were', 'be', 'been', 'being', 'have', 'has', 'had', 'having', 'do', 'does', \\\n",
    "            'did', 'doing', 'a', 'an', 'the', 'and', 'but', 'if', 'or', 'because', 'as', 'until', 'while', 'of', \\\n",
    "            'at', 'by', 'for', 'with', 'about', 'against', 'between', 'into', 'through', 'during', 'before', 'after',\\\n",
    "            'above', 'below', 'to', 'from', 'up', 'down', 'in', 'out', 'on', 'off', 'over', 'under', 'again', 'further',\\\n",
    "            'then', 'once', 'here', 'there', 'when', 'where', 'why', 'how', 'all', 'any', 'both', 'each', 'few', 'more',\\\n",
    "            'most', 'other', 'some', 'such', 'only', 'own', 'same', 'so', 'than', 'too', 'very', \\\n",
    "            's', 't', 'can', 'will', 'just', 'don', \"don't\", 'should', \"should've\", 'now', 'd', 'll', 'm', 'o', 're', \\\n",
    "            've', 'y', 'ain', 'aren', \"aren't\", 'couldn', \"couldn't\", 'didn', \"didn't\", 'doesn', \"doesn't\", 'hadn',\\\n",
    "            \"hadn't\", 'hasn', \"hasn't\", 'haven', \"haven't\", 'isn', \"isn't\", 'ma', 'mightn', \"mightn't\", 'mustn',\\\n",
    "            \"mustn't\", 'needn', \"needn't\", 'shan', \"shan't\", 'shouldn', \"shouldn't\", 'wasn', \"wasn't\", 'weren', \"weren't\", \\\n",
    "            'won', \"won't\", 'wouldn', \"wouldn't\"])"
   ]
  },
  {
   "cell_type": "code",
   "execution_count": 738,
   "id": "0fab86fd",
   "metadata": {},
   "outputs": [],
   "source": [
    "#cleaning the data in the description\n",
    "from tqdm import tqdm\n",
    "preprocessed_synopsis = []\n",
    "# tqdm is for printing the status bar\n",
    "for sentance in df['synopsis'].values:\n",
    "    sentance = re.sub(r\"http\\S+\", \"\", sentance)\n",
    "    sentance = BeautifulSoup(sentance, 'lxml').get_text()\n",
    "    sentance = decontracted(sentance)\n",
    "    sentance = re.sub(\"\\S*\\d\\S*\", \"\", sentance).strip()\n",
    "    sentance = re.sub('[^A-Za-z]+', ' ', sentance)\n",
    "    sentance = ' '.join(e.lower() for e in sentance.split() if e.lower() not in stopwords)\n",
    "    preprocessed_synopsis.append(sentance.strip())\n",
    "df['preprocessed_plots']=preprocessed_synopsis"
   ]
  },
  {
   "cell_type": "code",
   "execution_count": 739,
   "id": "bd6399d4",
   "metadata": {},
   "outputs": [
    {
     "data": {
      "text/plain": [
       "1                       Education\n",
       "3                           Music\n",
       "4                     Crime,Drama\n",
       "5                    Action,Crime\n",
       "6                          Comedy\n",
       "                   ...           \n",
       "10519    Action,Adventure,Western\n",
       "10520              Action,Western\n",
       "10521                     Mystery\n",
       "10522                    Thriller\n",
       "10523                       Drama\n",
       "Name: genre, Length: 6604, dtype: object"
      ]
     },
     "execution_count": 739,
     "metadata": {},
     "output_type": "execute_result"
    }
   ],
   "source": [
    "#removing spaces in the genre column\n",
    "def remove_spaces(x):\n",
    "    x=x.split(\",\")\n",
    "    nospace=[]\n",
    "    for item in x:\n",
    "        item=item.lstrip()\n",
    "        nospace.append(item)\n",
    "    return (\",\").join(nospace)\n",
    "\n",
    "df['genre']=df['genre'].apply(remove_spaces)\n",
    "df['genre']"
   ]
  },
  {
   "cell_type": "code",
   "execution_count": 740,
   "id": "c27d99c1",
   "metadata": {},
   "outputs": [
    {
     "data": {
      "text/plain": [
       "Drama                                 897\n",
       "Comedy                                514\n",
       "Horror                                318\n",
       "Music                                 287\n",
       "Children's/Family                     244\n",
       "                                     ... \n",
       "Action,Adventure,Crime,Mystery          1\n",
       "Comedy Drama,Drama,Romance              1\n",
       "Action,Crime,Drama,Science Fiction      1\n",
       "Adult,Adventure,Drama                   1\n",
       "Crime,Drama,Horror,Thriller             1\n",
       "Name: genre, Length: 488, dtype: int64"
      ]
     },
     "execution_count": 740,
     "metadata": {},
     "output_type": "execute_result"
    }
   ],
   "source": [
    "#We see that there is a big number of different combinations of genres\n",
    "df.genre.value_counts()"
   ]
  },
  {
   "cell_type": "code",
   "execution_count": 741,
   "id": "cf4c3467",
   "metadata": {},
   "outputs": [],
   "source": [
    "#spiltting the data in train - 70% and test - 30%\n",
    "train= df.sample(frac = 0.7)\n",
    "test= df.drop(train.index)"
   ]
  },
  {
   "cell_type": "code",
   "execution_count": 742,
   "id": "56910970",
   "metadata": {},
   "outputs": [
    {
     "name": "stdout",
     "output_type": "stream",
     "text": [
      "[[0 0 0 ... 0 0 0]\n",
      " [0 1 0 ... 0 0 0]\n",
      " [0 1 0 ... 0 1 0]\n",
      " ...\n",
      " [0 1 0 ... 0 0 0]\n",
      " [0 0 0 ... 0 0 0]\n",
      " [0 0 0 ... 0 1 0]]\n"
     ]
    }
   ],
   "source": [
    "#Vectorization of the data\n",
    "from sklearn.feature_extraction.text import CountVectorizer\n",
    "vectorizer = CountVectorizer(tokenizer = lambda x: x.split(\",\"), binary='true')\n",
    "y_train = vectorizer.fit_transform(train['genre']).toarray()\n",
    "y_test = vectorizer.transform(test['genre']).toarray()\n",
    "\n",
    "print(y_train)"
   ]
  },
  {
   "cell_type": "code",
   "execution_count": 743,
   "id": "ac321fcb",
   "metadata": {},
   "outputs": [
    {
     "data": {
      "text/plain": [
       "[array(['horror', 'science fiction'], dtype='<U35')]"
      ]
     },
     "execution_count": 743,
     "metadata": {},
     "output_type": "execute_result"
    }
   ],
   "source": [
    "vectorizer.inverse_transform(y_train[0])"
   ]
  },
  {
   "cell_type": "code",
   "execution_count": 744,
   "id": "6c0db1c5",
   "metadata": {},
   "outputs": [
    {
     "data": {
      "text/plain": [
       "880"
      ]
     },
     "execution_count": 744,
     "metadata": {},
     "output_type": "execute_result"
    }
   ],
   "source": [
    "def max_len(x):\n",
    "    a=x.split()\n",
    "    return len(a)\n",
    "\n",
    "max(df['synopsis'].apply(max_len))"
   ]
  },
  {
   "cell_type": "code",
   "execution_count": 745,
   "id": "87bca17e",
   "metadata": {},
   "outputs": [
    {
     "name": "stdout",
     "output_type": "stream",
     "text": [
      "36465\n"
     ]
    }
   ],
   "source": [
    "vect=Tokenizer()\n",
    "vect.fit_on_texts(train['synopsis'])\n",
    "vocab_size = len(vect.word_index) + 1\n",
    "print(vocab_size)"
   ]
  },
  {
   "cell_type": "code",
   "execution_count": 846,
   "id": "18fdb259",
   "metadata": {},
   "outputs": [
    {
     "name": "stdout",
     "output_type": "stream",
     "text": [
      "[[ 530  169  187 ...    0    0    0]\n",
      " [1766 6955 1025 ...    0    0    0]\n",
      " [2946  455  130 ...    0    0    0]\n",
      " ...\n",
      " [4925  572   48 ...    0    0    0]\n",
      " [ 579   59 1109 ...    0    0    0]\n",
      " [2022 2593 5102 ...    0    0    0]]\n"
     ]
    }
   ],
   "source": [
    "encoded_docs_train = vect.texts_to_sequences(train['preprocessed_plots'])\n",
    "max_length = vocab_size\n",
    "padded_docs_train = pad_sequences(encoded_docs_train, maxlen=30, padding='post')\n",
    "print(padded_docs_train)"
   ]
  },
  {
   "cell_type": "code",
   "execution_count": 847,
   "id": "2a375468",
   "metadata": {},
   "outputs": [],
   "source": [
    "encoded_docs_test =  vect.texts_to_sequences(test['preprocessed_plots'])\n",
    "padded_docs_test = pad_sequences(encoded_docs_test, maxlen=30, padding='post')"
   ]
  },
  {
   "cell_type": "markdown",
   "id": "6b7074b6",
   "metadata": {},
   "source": [
    "# MODELING"
   ]
  },
  {
   "cell_type": "markdown",
   "id": "a667dcc3",
   "metadata": {},
   "source": [
    "# LSTN"
   ]
  },
  {
   "cell_type": "code",
   "execution_count": 765,
   "id": "f040379b",
   "metadata": {},
   "outputs": [
    {
     "name": "stdout",
     "output_type": "stream",
     "text": [
      "Model: \"sequential_700\"\n",
      "_________________________________________________________________\n",
      " Layer (type)                Output Shape              Param #   \n",
      "=================================================================\n",
      " embedding_702 (Embedding)   (None, 30, 100)           5000000   \n",
      "                                                                 \n",
      " dropout_1064 (Dropout)      (None, 30, 100)           0         \n",
      "                                                                 \n",
      " lstm_1114 (LSTM)            (None, 100)               80400     \n",
      "                                                                 \n",
      " dense_745 (Dense)           (None, 41)                4141      \n",
      "                                                                 \n",
      "=================================================================\n",
      "Total params: 5,084,541\n",
      "Trainable params: 5,084,541\n",
      "Non-trainable params: 0\n",
      "_________________________________________________________________\n"
     ]
    }
   ],
   "source": [
    "import keras\n",
    "import keras.utils\n",
    "from keras import utils as np_utils\n",
    "\n",
    "#def create_model(batch_size, optimizer):\n",
    "    #model = keras.Sequential()\n",
    "# Configuring the parameters\n",
    "    #model.add(layers.Embedding(vocab_size, output_dim=50, input_length=1200))\n",
    "   # model.add(layers.LSTM(128, return_sequences=True))  \n",
    "# Adding a dropout layer\n",
    "    #model.add(layers.Dropout(0.5))\n",
    "    #model.add(layers.LSTM(64))\n",
    "    #model.add(layers.Dropout(0.5))\n",
    "# Adding a dense output layer with sigmoid activation\n",
    "    #model.add(layers.Dense(41, activation='sigmoid'))\n",
    "#model.summary()\n",
    "#model = Sequential()  \n",
    "    #model.add(Embedding(top_words, 32, input_length=max_words))\n",
    "    #model.add(Conv1D(32, 3, padding='same', activation='relu'))\n",
    "    #model.add(MaxPooling1D())\n",
    "    #model.add(Flatten())\n",
    "    #model.add(Dense(250, activation='relu'))\n",
    "    #model.add(Dense(41, activation='sigmoid'))\n",
    "    #model.compile(loss='binary_crossentropy', optimizer='adam', metrics=['accuracy'])\n",
    "#model.summary()\n",
    "    #return model\n",
    "    \n",
    "    # The maximum number of words to be used. (most frequent)\n",
    "MAX_NB_WORDS = 50000\n",
    "# Max number of words in each complaint.\n",
    "MAX_SEQUENCE_LENGTH = 250\n",
    "# This is fixed.\n",
    "EMBEDDING_DIM = 100\n",
    "#def create_model(batch_size, optimizer, momentum, learn_rate, neurons):\n",
    "model = Sequential()\n",
    "model.add(Embedding(MAX_NB_WORDS, EMBEDDING_DIM, input_length=30))\n",
    "model.add(Dropout(0.2))\n",
    "model.add(LSTM(100, dropout=0.2, recurrent_dropout=0.2))\n",
    "model.add(Dense(41, activation='softmax'))\n",
    "model.compile(loss='categorical_crossentropy', optimizer='adam', metrics=['accuracy'])\n",
    "model.summary()\n",
    "    #return model"
   ]
  },
  {
   "cell_type": "code",
   "execution_count": 767,
   "id": "33398579",
   "metadata": {},
   "outputs": [],
   "source": [
    "METRICS = [\n",
    "      keras.metrics.TruePositives(name='tp'),\n",
    "      keras.metrics.FalsePositives(name='fp'),\n",
    "      keras.metrics.TrueNegatives(name='tn'),\n",
    "      keras.metrics.FalseNegatives(name='fn'), \n",
    "      keras.metrics.BinaryAccuracy(name='accuracy'),\n",
    "      keras.metrics.Precision(name='precision'),\n",
    "      keras.metrics.Recall(name='recall'),\n",
    "      keras.metrics.AUC(name='auc'),\n",
    "]\n",
    "\n",
    "model.compile(optimizer='adam', loss='binary_crossentropy', metrics = METRICS)"
   ]
  },
  {
   "cell_type": "code",
   "execution_count": 768,
   "id": "6f604942",
   "metadata": {},
   "outputs": [
    {
     "name": "stdout",
     "output_type": "stream",
     "text": [
      "Epoch 1/5\n",
      "37/37 [==============================] - 27s 599ms/step - loss: 4.9275 - tp: 0.0000e+00 - fp: 0.0000e+00 - tn: 182799.0000 - fn: 6744.0000 - accuracy: 0.9644 - precision: 0.0000e+00 - recall: 0.0000e+00 - auc: 0.7196 - val_loss: 0.6776 - val_tp: 0.0000e+00 - val_fp: 0.0000e+00 - val_tn: 78346.0000 - val_fn: 2875.0000 - val_accuracy: 0.9646 - val_precision: 0.0000e+00 - val_recall: 0.0000e+00 - val_auc: 0.5374\n",
      "Epoch 2/5\n",
      "37/37 [==============================] - 18s 490ms/step - loss: 0.6125 - tp: 0.0000e+00 - fp: 0.0000e+00 - tn: 182799.0000 - fn: 6744.0000 - accuracy: 0.9644 - precision: 0.0000e+00 - recall: 0.0000e+00 - auc: 0.4675 - val_loss: 0.5599 - val_tp: 0.0000e+00 - val_fp: 0.0000e+00 - val_tn: 78346.0000 - val_fn: 2875.0000 - val_accuracy: 0.9646 - val_precision: 0.0000e+00 - val_recall: 0.0000e+00 - val_auc: 0.4181\n",
      "Epoch 3/5\n",
      "37/37 [==============================] - 20s 550ms/step - loss: 0.4569 - tp: 0.0000e+00 - fp: 0.0000e+00 - tn: 182799.0000 - fn: 6744.0000 - accuracy: 0.9644 - precision: 0.0000e+00 - recall: 0.0000e+00 - auc: 0.3623 - val_loss: 0.3263 - val_tp: 0.0000e+00 - val_fp: 0.0000e+00 - val_tn: 78346.0000 - val_fn: 2875.0000 - val_accuracy: 0.9646 - val_precision: 0.0000e+00 - val_recall: 0.0000e+00 - val_auc: 0.3499\n",
      "Epoch 4/5\n",
      "37/37 [==============================] - 27s 738ms/step - loss: 0.2392 - tp: 0.0000e+00 - fp: 0.0000e+00 - tn: 182799.0000 - fn: 6744.0000 - accuracy: 0.9644 - precision: 0.0000e+00 - recall: 0.0000e+00 - auc: 0.3664 - val_loss: 0.1823 - val_tp: 0.0000e+00 - val_fp: 0.0000e+00 - val_tn: 78346.0000 - val_fn: 2875.0000 - val_accuracy: 0.9646 - val_precision: 0.0000e+00 - val_recall: 0.0000e+00 - val_auc: 0.3989\n",
      "Epoch 5/5\n",
      "37/37 [==============================] - 21s 562ms/step - loss: 0.1682 - tp: 0.0000e+00 - fp: 0.0000e+00 - tn: 182799.0000 - fn: 6744.0000 - accuracy: 0.9644 - precision: 0.0000e+00 - recall: 0.0000e+00 - auc: 0.4670 - val_loss: 0.1561 - val_tp: 0.0000e+00 - val_fp: 0.0000e+00 - val_tn: 78346.0000 - val_fn: 2875.0000 - val_accuracy: 0.9646 - val_precision: 0.0000e+00 - val_recall: 0.0000e+00 - val_auc: 0.5355\n"
     ]
    },
    {
     "data": {
      "text/plain": [
       "<keras.callbacks.History at 0x1ede5ddf130>"
      ]
     },
     "execution_count": 768,
     "metadata": {},
     "output_type": "execute_result"
    }
   ],
   "source": [
    "model.fit(padded_docs_train,y_train,\n",
    "                        epochs = 5,\n",
    "                        verbose = 1,\n",
    "                        validation_data=(padded_docs_test, y_test),\n",
    "                        batch_size=128)"
   ]
  },
  {
   "cell_type": "code",
   "execution_count": 761,
   "id": "97218322",
   "metadata": {},
   "outputs": [
    {
     "name": "stdout",
     "output_type": "stream",
     "text": [
      "62/62 [==============================] - 2s 33ms/step\n",
      "For threshold:  0.1\n",
      "Micro-average quality numbers\n",
      "Precision: 0.1863, Recall: 0.2567, F1-measure: 0.2159\n",
      "For threshold:  0.2\n",
      "Micro-average quality numbers\n",
      "Precision: 0.0000, Recall: 0.0000, F1-measure: 0.0000\n",
      "For threshold:  0.3\n",
      "Micro-average quality numbers\n",
      "Precision: 0.0000, Recall: 0.0000, F1-measure: 0.0000\n",
      "For threshold:  0.4\n"
     ]
    },
    {
     "name": "stderr",
     "output_type": "stream",
     "text": [
      "C:\\Users\\Vadym\\anaconda3\\lib\\site-packages\\sklearn\\metrics\\_classification.py:1245: UndefinedMetricWarning: Precision is ill-defined and being set to 0.0 due to no predicted samples. Use `zero_division` parameter to control this behavior.\n",
      "  _warn_prf(average, modifier, msg_start, len(result))\n",
      "C:\\Users\\Vadym\\anaconda3\\lib\\site-packages\\sklearn\\metrics\\_classification.py:1245: UndefinedMetricWarning: Precision is ill-defined and being set to 0.0 due to no predicted samples. Use `zero_division` parameter to control this behavior.\n",
      "  _warn_prf(average, modifier, msg_start, len(result))\n",
      "C:\\Users\\Vadym\\anaconda3\\lib\\site-packages\\sklearn\\metrics\\_classification.py:1245: UndefinedMetricWarning: Precision is ill-defined and being set to 0.0 due to no predicted samples. Use `zero_division` parameter to control this behavior.\n",
      "  _warn_prf(average, modifier, msg_start, len(result))\n"
     ]
    },
    {
     "name": "stdout",
     "output_type": "stream",
     "text": [
      "Micro-average quality numbers\n",
      "Precision: 0.0000, Recall: 0.0000, F1-measure: 0.0000\n",
      "For threshold:  0.5\n",
      "Micro-average quality numbers\n",
      "Precision: 0.0000, Recall: 0.0000, F1-measure: 0.0000\n",
      "For threshold:  0.6\n",
      "Micro-average quality numbers\n",
      "Precision: 0.0000, Recall: 0.0000, F1-measure: 0.0000\n",
      "For threshold:  0.7\n"
     ]
    },
    {
     "name": "stderr",
     "output_type": "stream",
     "text": [
      "C:\\Users\\Vadym\\anaconda3\\lib\\site-packages\\sklearn\\metrics\\_classification.py:1245: UndefinedMetricWarning: Precision is ill-defined and being set to 0.0 due to no predicted samples. Use `zero_division` parameter to control this behavior.\n",
      "  _warn_prf(average, modifier, msg_start, len(result))\n",
      "C:\\Users\\Vadym\\anaconda3\\lib\\site-packages\\sklearn\\metrics\\_classification.py:1245: UndefinedMetricWarning: Precision is ill-defined and being set to 0.0 due to no predicted samples. Use `zero_division` parameter to control this behavior.\n",
      "  _warn_prf(average, modifier, msg_start, len(result))\n",
      "C:\\Users\\Vadym\\anaconda3\\lib\\site-packages\\sklearn\\metrics\\_classification.py:1245: UndefinedMetricWarning: Precision is ill-defined and being set to 0.0 due to no predicted samples. Use `zero_division` parameter to control this behavior.\n",
      "  _warn_prf(average, modifier, msg_start, len(result))\n"
     ]
    },
    {
     "name": "stdout",
     "output_type": "stream",
     "text": [
      "Micro-average quality numbers\n",
      "Precision: 0.0000, Recall: 0.0000, F1-measure: 0.0000\n",
      "For threshold:  0.8\n",
      "Micro-average quality numbers\n",
      "Precision: 0.0000, Recall: 0.0000, F1-measure: 0.0000\n",
      "For threshold:  0.9\n",
      "Micro-average quality numbers\n",
      "Precision: 0.0000, Recall: 0.0000, F1-measure: 0.0000\n"
     ]
    },
    {
     "name": "stderr",
     "output_type": "stream",
     "text": [
      "C:\\Users\\Vadym\\anaconda3\\lib\\site-packages\\sklearn\\metrics\\_classification.py:1245: UndefinedMetricWarning: Precision is ill-defined and being set to 0.0 due to no predicted samples. Use `zero_division` parameter to control this behavior.\n",
      "  _warn_prf(average, modifier, msg_start, len(result))\n",
      "C:\\Users\\Vadym\\anaconda3\\lib\\site-packages\\sklearn\\metrics\\_classification.py:1245: UndefinedMetricWarning: Precision is ill-defined and being set to 0.0 due to no predicted samples. Use `zero_division` parameter to control this behavior.\n",
      "  _warn_prf(average, modifier, msg_start, len(result))\n"
     ]
    }
   ],
   "source": [
    "predictions=model.predict([padded_docs_test])\n",
    "thresholds=[0.1,0.2,0.3,0.4,0.5,0.6,0.7,0.8,0.9]\n",
    "\n",
    "for val in thresholds:\n",
    "    print(\"For threshold: \", val)\n",
    "    pred=predictions.copy()\n",
    "  \n",
    "    pred[pred>=val]=1\n",
    "    pred[pred<val]=0\n",
    "  \n",
    "    precision = precision_score(y_test, pred, average='micro')\n",
    "    recall = recall_score(y_test, pred, average='micro')\n",
    "    f1 = f1_score(y_test, pred, average='micro')\n",
    "   \n",
    "    print(\"Micro-average quality numbers\")\n",
    "    print(\"Precision: {:.4f}, Recall: {:.4f}, F1-measure: {:.4f}\".format(precision, recall, f1))"
   ]
  },
  {
   "cell_type": "code",
   "execution_count": 631,
   "id": "c3000dd5",
   "metadata": {},
   "outputs": [
    {
     "name": "stdout",
     "output_type": "stream",
     "text": [
      "1/1 [==============================] - 0s 31ms/step\n",
      "Original tags --> ['Science &amp; Technology']\n",
      "Predicted tags --> ['action' 'comedy' 'drama']\n"
     ]
    }
   ],
   "source": [
    "def predict_sample():\n",
    "    t = train.sample(1)\n",
    "    encoded_docs = vect.texts_to_sequences(t['preprocessed_plots'])\n",
    "    padded_docs = pad_sequences(encoded_docs, maxlen=30, padding='post')\n",
    "    pred = model.predict(padded_docs).tolist()\n",
    "    for i in range(len(pred[0])):\n",
    "        if(pred[0][i] < 0.1):\n",
    "            pred[0][i] = 0\n",
    "        else:\n",
    "            pred[0][i] = 1\n",
    "    \n",
    "    print(\"Original tags -->\", t['genre'].values)\n",
    "    print(\"Predicted tags -->\", vectorizer.inverse_transform(pred[0])[0])\n",
    "\n",
    "predict_sample()"
   ]
  },
  {
   "cell_type": "code",
   "execution_count": 763,
   "id": "fc1db7ea",
   "metadata": {},
   "outputs": [
    {
     "name": "stdout",
     "output_type": "stream",
     "text": [
      "    Test Loss: 0.12852\n"
     ]
    }
   ],
   "source": [
    "results = model.evaluate(padded_docs_test, y_test, verbose=0)\n",
    "print(\"    Test Loss: {:.5f}\".format(results[0]))"
   ]
  },
  {
   "cell_type": "markdown",
   "id": "fb3018df",
   "metadata": {},
   "source": [
    "# GRID_SEARCH for LSTM"
   ]
  },
  {
   "cell_type": "code",
   "execution_count": 769,
   "id": "1eb8e98f",
   "metadata": {},
   "outputs": [
    {
     "data": {
      "text/plain": [
       "{'batch_size': [16, 32, 64],\n",
       " 'epochs': [1, 5, 10],\n",
       " 'optimizer': ['adam', 'rmsprop'],\n",
       " 'learn_rate': [0.001, 0.01, 0.1, 0.2, 0.3],\n",
       " 'momentum': [0.0, 0.2, 0.4, 0.6, 0.8, 0.9],\n",
       " 'neurons': [1, 5, 10, 15, 20, 25, 30]}"
      ]
     },
     "execution_count": 769,
     "metadata": {},
     "output_type": "execute_result"
    }
   ],
   "source": [
    "batch_size = [16, 32, 64]\n",
    "epochs = [1, 5, 10]\n",
    "optimizers = ['adam', 'rmsprop']\n",
    "learn_rate = [0.001, 0.01, 0.1, 0.2, 0.3]\n",
    "momentum = [0.0, 0.2, 0.4, 0.6, 0.8, 0.9]\n",
    "neurons = [1, 5, 10, 15, 20, 25, 30]\n",
    "param_grid = dict(batch_size=batch_size, epochs=epochs, optimizer=optimizers, learn_rate = learn_rate, \n",
    "                  momentum = momentum, neurons = neurons )\n",
    "param_grid"
   ]
  },
  {
   "cell_type": "code",
   "execution_count": 753,
   "id": "b451c72c",
   "metadata": {},
   "outputs": [],
   "source": [
    "from sklearn.model_selection import StratifiedKFold, cross_val_score, GridSearchCV, RandomizedSearchCV\n",
    "from hyperopt import tpe, STATUS_OK, Trials, hp, fmin, STATUS_OK, space_eval"
   ]
  },
  {
   "cell_type": "code",
   "execution_count": 755,
   "id": "019dacf8",
   "metadata": {},
   "outputs": [
    {
     "name": "stderr",
     "output_type": "stream",
     "text": [
      "<ipython-input-755-5cb052053cae>:1: DeprecationWarning: KerasClassifier is deprecated, use Sci-Keras (https://github.com/adriangb/scikeras) instead. See https://www.adriangb.com/scikeras/stable/migration.html for help migrating.\n",
      "  model = KerasClassifier(build_fn=create_model, verbose=1)\n",
      "C:\\Users\\Vadym\\anaconda3\\lib\\site-packages\\sklearn\\model_selection\\_search.py:285: UserWarning: The total space of parameters 8 is smaller than n_iter=10. Running 8 iterations. For exhaustive searches, use GridSearchCV.\n",
      "  warnings.warn(\n"
     ]
    },
    {
     "name": "stdout",
     "output_type": "stream",
     "text": [
      "232/232 [==============================] - 48s 191ms/step - loss: 4.6819 - accuracy: 0.1947\n",
      "58/58 [==============================] - 2s 32ms/step - loss: 4.8177 - accuracy: 0.1870\n",
      "232/232 [==============================] - 48s 189ms/step - loss: 4.7194 - accuracy: 0.1917\n",
      "58/58 [==============================] - 2s 30ms/step - loss: 4.8860 - accuracy: 0.1946\n",
      "232/232 [==============================] - 45s 179ms/step - loss: 4.7659 - accuracy: 0.1850\n",
      "58/58 [==============================] - 2s 25ms/step - loss: 4.7254 - accuracy: 0.1330\n",
      "232/232 [==============================] - 45s 176ms/step - loss: 4.7418 - accuracy: 0.1787\n",
      "58/58 [==============================] - 2s 25ms/step - loss: 4.6245 - accuracy: 0.2035\n",
      "232/232 [==============================] - 42s 167ms/step - loss: 4.7943 - accuracy: 0.1903\n",
      "58/58 [==============================] - 2s 22ms/step - loss: 4.5258 - accuracy: 0.1872\n",
      "232/232 [==============================] - 43s 171ms/step - loss: 4.6555 - accuracy: 0.1958\n",
      "58/58 [==============================] - 2s 22ms/step - loss: 4.8251 - accuracy: 0.1903\n",
      "232/232 [==============================] - 47s 181ms/step - loss: 4.7184 - accuracy: 0.1920\n",
      "58/58 [==============================] - 2s 34ms/step - loss: 4.8318 - accuracy: 0.1946\n",
      "232/232 [==============================] - 45s 176ms/step - loss: 4.7468 - accuracy: 0.1858\n",
      "58/58 [==============================] - 2s 32ms/step - loss: 4.7221 - accuracy: 0.2022\n",
      "232/232 [==============================] - 45s 177ms/step - loss: 4.7558 - accuracy: 0.1890\n",
      "58/58 [==============================] - 2s 29ms/step - loss: 4.5995 - accuracy: 0.2035\n",
      "232/232 [==============================] - 43s 170ms/step - loss: 4.7399 - accuracy: 0.1865\n",
      "58/58 [==============================] - 2s 26ms/step - loss: 4.6105 - accuracy: 0.1872\n",
      "Epoch 1/5\n",
      "232/232 [==============================] - 50s 201ms/step - loss: 4.6798 - accuracy: 0.1869\n",
      "Epoch 2/5\n",
      "232/232 [==============================] - 42s 179ms/step - loss: 4.6622 - accuracy: 0.1969\n",
      "Epoch 3/5\n",
      "232/232 [==============================] - 55s 236ms/step - loss: 4.6963 - accuracy: 0.1961\n",
      "Epoch 4/5\n",
      "232/232 [==============================] - 41s 178ms/step - loss: 4.7170 - accuracy: 0.1974\n",
      "Epoch 5/5\n",
      "232/232 [==============================] - 41s 177ms/step - loss: 4.7577 - accuracy: 0.1969\n",
      "58/58 [==============================] - 2s 25ms/step - loss: 4.9225 - accuracy: 0.1870\n",
      "Epoch 1/5\n",
      "232/232 [==============================] - 55s 222ms/step - loss: 4.7166 - accuracy: 0.1912\n",
      "Epoch 2/5\n",
      "232/232 [==============================] - 59s 253ms/step - loss: 4.7077 - accuracy: 0.1950\n",
      "Epoch 3/5\n",
      "232/232 [==============================] - 58s 248ms/step - loss: 4.7697 - accuracy: 0.1950\n",
      "Epoch 4/5\n",
      "232/232 [==============================] - 54s 234ms/step - loss: 4.7920 - accuracy: 0.1950\n",
      "Epoch 5/5\n",
      "232/232 [==============================] - 52s 226ms/step - loss: 4.8098 - accuracy: 0.1950\n",
      "58/58 [==============================] - 2s 28ms/step - loss: 4.9928 - accuracy: 0.1946\n",
      "Epoch 1/5\n",
      "232/232 [==============================] - 63s 249ms/step - loss: 4.7213 - accuracy: 0.1917\n",
      "Epoch 2/5\n",
      "232/232 [==============================] - 64s 276ms/step - loss: 4.6205 - accuracy: 0.2163\n",
      "Epoch 3/5\n",
      "232/232 [==============================] - 57s 246ms/step - loss: 4.5970 - accuracy: 0.2209\n",
      "Epoch 4/5\n",
      "232/232 [==============================] - 52s 225ms/step - loss: 4.5520 - accuracy: 0.2312\n",
      "Epoch 5/5\n",
      "232/232 [==============================] - 52s 224ms/step - loss: 4.5620 - accuracy: 0.2339\n",
      "58/58 [==============================] - 2s 27ms/step - loss: 4.7140 - accuracy: 0.2238\n",
      "Epoch 1/5\n",
      "232/232 [==============================] - 58s 228ms/step - loss: 4.7509 - accuracy: 0.1803\n",
      "Epoch 2/5\n",
      "232/232 [==============================] - 55s 236ms/step - loss: 4.6937 - accuracy: 0.1928\n",
      "Epoch 3/5\n",
      "232/232 [==============================] - 55s 237ms/step - loss: 4.7296 - accuracy: 0.1895\n",
      "Epoch 4/5\n",
      "232/232 [==============================] - 55s 235ms/step - loss: 4.7722 - accuracy: 0.1901\n",
      "Epoch 5/5\n",
      "232/232 [==============================] - 53s 229ms/step - loss: 4.8199 - accuracy: 0.1909\n",
      "58/58 [==============================] - 2s 31ms/step - loss: 4.7077 - accuracy: 0.2035\n",
      "Epoch 1/5\n",
      "232/232 [==============================] - 55s 218ms/step - loss: 4.7187 - accuracy: 0.1890\n",
      "Epoch 2/5\n",
      "232/232 [==============================] - 50s 214ms/step - loss: 4.7632 - accuracy: 0.1963\n",
      "Epoch 3/5\n",
      "232/232 [==============================] - 54s 232ms/step - loss: 4.7611 - accuracy: 0.1952\n",
      "Epoch 4/5\n",
      "232/232 [==============================] - 49s 209ms/step - loss: 4.7944 - accuracy: 0.1968\n",
      "Epoch 5/5\n",
      "232/232 [==============================] - 51s 221ms/step - loss: 4.8260 - accuracy: 0.1968\n",
      "58/58 [==============================] - 2s 26ms/step - loss: 4.7076 - accuracy: 0.1872\n",
      "Epoch 1/5\n",
      "232/232 [==============================] - 57s 223ms/step - loss: 4.6856 - accuracy: 0.1885\n",
      "Epoch 2/5\n",
      "232/232 [==============================] - 65s 280ms/step - loss: 4.6165 - accuracy: 0.2004\n",
      "Epoch 3/5\n",
      "232/232 [==============================] - 48s 206ms/step - loss: 4.6797 - accuracy: 0.2180\n",
      "Epoch 4/5\n",
      "232/232 [==============================] - 48s 207ms/step - loss: 4.4830 - accuracy: 0.2439\n",
      "Epoch 5/5\n",
      "232/232 [==============================] - 39s 168ms/step - loss: 4.5098 - accuracy: 0.2499\n",
      "58/58 [==============================] - 2s 22ms/step - loss: 4.9887 - accuracy: 0.1470\n",
      "Epoch 1/5\n",
      "232/232 [==============================] - 48s 185ms/step - loss: 4.7513 - accuracy: 0.1925\n",
      "Epoch 2/5\n",
      "232/232 [==============================] - 43s 187ms/step - loss: 4.6608 - accuracy: 0.1920\n",
      "Epoch 3/5\n",
      "232/232 [==============================] - 42s 183ms/step - loss: 4.7054 - accuracy: 0.1939\n",
      "Epoch 4/5\n",
      "232/232 [==============================] - 43s 184ms/step - loss: 4.7659 - accuracy: 0.1950\n",
      "Epoch 5/5\n",
      "232/232 [==============================] - 42s 181ms/step - loss: 4.7664 - accuracy: 0.1950\n",
      "58/58 [==============================] - 3s 38ms/step - loss: 4.9570 - accuracy: 0.1946\n",
      "Epoch 1/5\n",
      "232/232 [==============================] - 44s 174ms/step - loss: 4.7735 - accuracy: 0.1833\n",
      "Epoch 2/5\n",
      "232/232 [==============================] - 41s 179ms/step - loss: 4.7329 - accuracy: 0.1920\n",
      "Epoch 3/5\n",
      "232/232 [==============================] - 40s 174ms/step - loss: 4.7708 - accuracy: 0.1931\n",
      "Epoch 4/5\n",
      "232/232 [==============================] - 41s 178ms/step - loss: 4.7943 - accuracy: 0.1931\n",
      "Epoch 5/5\n",
      "232/232 [==============================] - 41s 175ms/step - loss: 4.8340 - accuracy: 0.1931\n",
      "58/58 [==============================] - 2s 30ms/step - loss: 4.8068 - accuracy: 0.2022\n",
      "Epoch 1/5\n",
      "232/232 [==============================] - 44s 175ms/step - loss: 4.7214 - accuracy: 0.1887\n",
      "Epoch 2/5\n",
      "232/232 [==============================] - 41s 177ms/step - loss: 4.7386 - accuracy: 0.1857\n",
      "Epoch 3/5\n",
      "232/232 [==============================] - 41s 176ms/step - loss: 4.6479 - accuracy: 0.2009\n",
      "Epoch 4/5\n",
      "232/232 [==============================] - 41s 175ms/step - loss: 4.6280 - accuracy: 0.2244\n",
      "Epoch 5/5\n",
      "232/232 [==============================] - 42s 179ms/step - loss: 4.5445 - accuracy: 0.2325\n",
      "58/58 [==============================] - 2s 30ms/step - loss: 4.6168 - accuracy: 0.2251\n",
      "Epoch 1/5\n",
      "232/232 [==============================] - 44s 175ms/step - loss: 4.7352 - accuracy: 0.1922\n",
      "Epoch 2/5\n",
      "232/232 [==============================] - 40s 174ms/step - loss: 4.7277 - accuracy: 0.1941\n",
      "Epoch 3/5\n",
      "232/232 [==============================] - 41s 177ms/step - loss: 4.6932 - accuracy: 0.2082\n",
      "Epoch 4/5\n",
      "232/232 [==============================] - 40s 174ms/step - loss: 4.5830 - accuracy: 0.2360\n",
      "Epoch 5/5\n",
      "232/232 [==============================] - 41s 176ms/step - loss: 4.5458 - accuracy: 0.2314\n",
      "58/58 [==============================] - 2s 30ms/step - loss: 5.0488 - accuracy: 0.2132\n",
      "116/116 [==============================] - 25s 188ms/step - loss: 4.7337 - accuracy: 0.1890\n",
      "29/29 [==============================] - 2s 35ms/step - loss: 4.7647 - accuracy: 0.1870\n",
      "116/116 [==============================] - 25s 187ms/step - loss: 4.7118 - accuracy: 0.1896\n",
      "29/29 [==============================] - 1s 31ms/step - loss: 4.7961 - accuracy: 0.1946\n",
      "116/116 [==============================] - 25s 186ms/step - loss: 4.7520 - accuracy: 0.1882\n",
      "29/29 [==============================] - 1s 28ms/step - loss: 4.6213 - accuracy: 0.2022\n",
      "116/116 [==============================] - 25s 188ms/step - loss: 4.7273 - accuracy: 0.1836\n",
      "29/29 [==============================] - 1s 28ms/step - loss: 4.6089 - accuracy: 0.2035\n",
      "116/116 [==============================] - 25s 187ms/step - loss: 4.7568 - accuracy: 0.1909\n",
      "29/29 [==============================] - 1s 27ms/step - loss: 4.5886 - accuracy: 0.1872\n",
      "116/116 [==============================] - 25s 183ms/step - loss: 4.6808 - accuracy: 0.1925\n",
      "29/29 [==============================] - 1s 25ms/step - loss: 4.7818 - accuracy: 0.1870\n",
      "116/116 [==============================] - 24s 174ms/step - loss: 4.7297 - accuracy: 0.1885\n",
      "29/29 [==============================] - 3s 38ms/step - loss: 4.8145 - accuracy: 0.1946\n",
      "116/116 [==============================] - 26s 194ms/step - loss: 4.7445 - accuracy: 0.1877\n",
      "29/29 [==============================] - 2s 38ms/step - loss: 4.6205 - accuracy: 0.2022\n",
      "116/116 [==============================] - 26s 190ms/step - loss: 4.7423 - accuracy: 0.1830\n",
      "29/29 [==============================] - 1s 34ms/step - loss: 4.5994 - accuracy: 0.2035\n",
      "116/116 [==============================] - 26s 189ms/step - loss: 4.7870 - accuracy: 0.1887\n",
      "29/29 [==============================] - 1s 35ms/step - loss: 4.5251 - accuracy: 0.1872\n",
      "Epoch 1/5\n",
      "116/116 [==============================] - 26s 190ms/step - loss: 4.6953 - accuracy: 0.1836\n",
      "Epoch 2/5\n",
      "116/116 [==============================] - 22s 186ms/step - loss: 4.6575 - accuracy: 0.1969\n",
      "Epoch 3/5\n",
      "116/116 [==============================] - 22s 186ms/step - loss: 4.6413 - accuracy: 0.1969\n",
      "Epoch 4/5\n",
      "116/116 [==============================] - 22s 189ms/step - loss: 4.6652 - accuracy: 0.1969\n",
      "Epoch 5/5\n",
      "116/116 [==============================] - 22s 187ms/step - loss: 4.6965 - accuracy: 0.1969\n",
      "29/29 [==============================] - 1s 32ms/step - loss: 4.8641 - accuracy: 0.1870\n",
      "Epoch 1/5\n",
      "116/116 [==============================] - 25s 181ms/step - loss: 4.7546 - accuracy: 0.1896\n",
      "Epoch 2/5\n",
      "116/116 [==============================] - 21s 185ms/step - loss: 4.6681 - accuracy: 0.1950\n",
      "Epoch 3/5\n",
      "116/116 [==============================] - 21s 181ms/step - loss: 4.6732 - accuracy: 0.1950\n",
      "Epoch 4/5\n",
      "116/116 [==============================] - 21s 180ms/step - loss: 4.6319 - accuracy: 0.1977\n",
      "Epoch 5/5\n",
      "116/116 [==============================] - 22s 189ms/step - loss: 4.5693 - accuracy: 0.2074\n",
      "29/29 [==============================] - 2s 35ms/step - loss: 4.8619 - accuracy: 0.1946\n",
      "Epoch 1/5\n",
      "116/116 [==============================] - 25s 187ms/step - loss: 4.7648 - accuracy: 0.1893\n",
      "Epoch 2/5\n",
      "116/116 [==============================] - 22s 188ms/step - loss: 4.6598 - accuracy: 0.1931\n",
      "Epoch 3/5\n",
      "116/116 [==============================] - 22s 192ms/step - loss: 4.6881 - accuracy: 0.1923\n",
      "Epoch 4/5\n",
      "116/116 [==============================] - 22s 188ms/step - loss: 4.7099 - accuracy: 0.1931\n",
      "Epoch 5/5\n",
      "116/116 [==============================] - 22s 188ms/step - loss: 4.7241 - accuracy: 0.1931\n",
      "29/29 [==============================] - 1s 28ms/step - loss: 4.6969 - accuracy: 0.2022\n",
      "Epoch 1/5\n",
      "116/116 [==============================] - 26s 189ms/step - loss: 4.7450 - accuracy: 0.1857\n",
      "Epoch 2/5\n",
      "116/116 [==============================] - 22s 189ms/step - loss: 4.6538 - accuracy: 0.1925\n",
      "Epoch 3/5\n",
      "116/116 [==============================] - 22s 187ms/step - loss: 4.5792 - accuracy: 0.1984\n",
      "Epoch 4/5\n",
      "116/116 [==============================] - 22s 190ms/step - loss: 4.5169 - accuracy: 0.2376\n",
      "Epoch 5/5\n",
      "116/116 [==============================] - 22s 187ms/step - loss: 4.4686 - accuracy: 0.2766\n",
      "29/29 [==============================] - 1s 27ms/step - loss: 4.5783 - accuracy: 0.2165\n",
      "Epoch 1/5\n",
      "116/116 [==============================] - 25s 185ms/step - loss: 4.7780 - accuracy: 0.1898\n",
      "Epoch 2/5\n",
      "116/116 [==============================] - 21s 184ms/step - loss: 4.6916 - accuracy: 0.1968\n",
      "Epoch 3/5\n",
      "116/116 [==============================] - 21s 183ms/step - loss: 4.6930 - accuracy: 0.1968\n",
      "Epoch 4/5\n",
      "116/116 [==============================] - 21s 185ms/step - loss: 4.7289 - accuracy: 0.1968\n",
      "Epoch 5/5\n",
      "116/116 [==============================] - 21s 185ms/step - loss: 4.7342 - accuracy: 0.1968\n",
      "29/29 [==============================] - 1s 24ms/step - loss: 4.6352 - accuracy: 0.1872\n",
      "Epoch 1/5\n",
      "116/116 [==============================] - 25s 183ms/step - loss: 4.7070 - accuracy: 0.1906\n",
      "Epoch 2/5\n",
      "116/116 [==============================] - 22s 186ms/step - loss: 4.6406 - accuracy: 0.1969\n",
      "Epoch 3/5\n",
      "116/116 [==============================] - 21s 184ms/step - loss: 4.6528 - accuracy: 0.1969\n",
      "Epoch 4/5\n",
      "116/116 [==============================] - 21s 182ms/step - loss: 4.6718 - accuracy: 0.1969\n",
      "Epoch 5/5\n",
      "116/116 [==============================] - 21s 184ms/step - loss: 4.6945 - accuracy: 0.1969\n",
      "29/29 [==============================] - 1s 24ms/step - loss: 4.8483 - accuracy: 0.1870\n",
      "Epoch 1/5\n",
      "116/116 [==============================] - 25s 179ms/step - loss: 4.7142 - accuracy: 0.1877\n",
      "Epoch 2/5\n",
      "116/116 [==============================] - 21s 177ms/step - loss: 4.5872 - accuracy: 0.2004\n",
      "Epoch 3/5\n",
      "116/116 [==============================] - 21s 180ms/step - loss: 4.5286 - accuracy: 0.2250\n",
      "Epoch 4/5\n",
      "116/116 [==============================] - 6658s 58s/step - loss: 4.5154 - accuracy: 0.2196\n",
      "Epoch 5/5\n",
      "116/116 [==============================] - 26s 222ms/step - loss: 4.5293 - accuracy: 0.2266\n",
      "29/29 [==============================] - 2s 33ms/step - loss: 4.9097 - accuracy: 0.2065\n",
      "Epoch 1/5\n",
      "116/116 [==============================] - 32s 205ms/step - loss: 4.7652 - accuracy: 0.1882\n",
      "Epoch 2/5\n",
      "116/116 [==============================] - 23s 198ms/step - loss: 4.6723 - accuracy: 0.1931\n",
      "Epoch 3/5\n",
      "116/116 [==============================] - 22s 194ms/step - loss: 4.6885 - accuracy: 0.1931\n",
      "Epoch 4/5\n",
      "116/116 [==============================] - 24s 203ms/step - loss: 4.7265 - accuracy: 0.1931\n",
      "Epoch 5/5\n",
      "116/116 [==============================] - 23s 199ms/step - loss: 4.7809 - accuracy: 0.1931\n",
      "29/29 [==============================] - 2s 44ms/step - loss: 4.7723 - accuracy: 0.2022\n",
      "Epoch 1/5\n",
      "116/116 [==============================] - 26s 192ms/step - loss: 4.7646 - accuracy: 0.1871\n",
      "Epoch 2/5\n",
      "116/116 [==============================] - 23s 200ms/step - loss: 4.6186 - accuracy: 0.1892\n",
      "Epoch 3/5\n",
      "116/116 [==============================] - 22s 193ms/step - loss: 4.5985 - accuracy: 0.2017\n",
      "Epoch 4/5\n",
      "116/116 [==============================] - 24s 203ms/step - loss: 4.5590 - accuracy: 0.2220\n",
      "Epoch 5/5\n",
      "116/116 [==============================] - 23s 202ms/step - loss: 4.5418 - accuracy: 0.2298\n",
      "29/29 [==============================] - 2s 39ms/step - loss: 4.6453 - accuracy: 0.2262\n",
      "Epoch 1/5\n",
      "116/116 [==============================] - 26s 193ms/step - loss: 4.7548 - accuracy: 0.1898\n",
      "Epoch 2/5\n",
      "116/116 [==============================] - 24s 208ms/step - loss: 4.6796 - accuracy: 0.1968\n",
      "Epoch 3/5\n",
      "116/116 [==============================] - 22s 187ms/step - loss: 4.6650 - accuracy: 0.1968\n",
      "Epoch 4/5\n",
      "116/116 [==============================] - 22s 190ms/step - loss: 4.6365 - accuracy: 0.1971\n",
      "Epoch 5/5\n",
      "116/116 [==============================] - 22s 190ms/step - loss: 4.5932 - accuracy: 0.1968\n",
      "29/29 [==============================] - 2s 39ms/step - loss: 4.5059 - accuracy: 0.1872\n",
      "Epoch 1/5\n",
      "145/145 [==============================] - 31s 187ms/step - loss: 4.7045 - accuracy: 0.1919\n",
      "Epoch 2/5\n",
      "145/145 [==============================] - 27s 187ms/step - loss: 4.5070 - accuracy: 0.2131\n",
      "Epoch 3/5\n",
      "145/145 [==============================] - 28s 190ms/step - loss: 4.4140 - accuracy: 0.2349\n",
      "Epoch 4/5\n",
      "145/145 [==============================] - 27s 186ms/step - loss: 4.4049 - accuracy: 0.2529\n",
      "Epoch 5/5\n",
      "145/145 [==============================] - 27s 189ms/step - loss: 4.4331 - accuracy: 0.2559\n",
      "Best: 0.201819 using {'optimizer': 'rmsprop', 'epochs': 5, 'batch_size': 32}\n",
      "0.181057 (0.024784) with: {'optimizer': 'adam', 'epochs': 1, 'batch_size': 16}\n",
      "0.195544 (0.006393) with: {'optimizer': 'rmsprop', 'epochs': 1, 'batch_size': 16}\n",
      "0.199220 (0.013676) with: {'optimizer': 'adam', 'epochs': 5, 'batch_size': 16}\n",
      "0.196419 (0.026761) with: {'optimizer': 'rmsprop', 'epochs': 5, 'batch_size': 16}\n",
      "0.194895 (0.007028) with: {'optimizer': 'adam', 'epochs': 1, 'batch_size': 32}\n",
      "0.194895 (0.007028) with: {'optimizer': 'rmsprop', 'epochs': 1, 'batch_size': 32}\n",
      "0.197493 (0.010995) with: {'optimizer': 'adam', 'epochs': 5, 'batch_size': 32}\n",
      "0.201819 (0.014474) with: {'optimizer': 'rmsprop', 'epochs': 5, 'batch_size': 32}\n"
     ]
    }
   ],
   "source": [
    "model = KerasClassifier(build_fn=create_model, verbose=1)\n",
    "\n",
    "grid =GridSearchCV(estimator=model, param_grid=param_grid, cv=5)\n",
    "\n",
    "grid_result = grid.fit(padded_docs_train, y_train)\n",
    "\n",
    "# summarize results\n",
    "print(\"Best: %f using %s\" % (grid_result.best_score_, grid_result.best_params_))\n",
    "means = grid_result.cv_results_['mean_test_score']\n",
    "stds = grid_result.cv_results_['std_test_score']\n",
    "params = grid_result.cv_results_['params']\n",
    "for mean, stdev, param in zip(means, stds, params):\n",
    "    print(\"%f (%f) with: %r\" % (mean, stdev, param))"
   ]
  },
  {
   "cell_type": "markdown",
   "id": "ba83b194",
   "metadata": {},
   "source": [
    "# CNN"
   ]
  },
  {
   "cell_type": "code",
   "execution_count": 856,
   "id": "16517129",
   "metadata": {},
   "outputs": [
    {
     "name": "stdout",
     "output_type": "stream",
     "text": [
      "Model: \"sequential_743\"\n",
      "_________________________________________________________________\n",
      " Layer (type)                Output Shape              Param #   \n",
      "=================================================================\n",
      " embedding_745 (Embedding)   (None, 1200, 32)          2240000   \n",
      "                                                                 \n",
      " conv1d_88 (Conv1D)          (None, 1200, 32)          3104      \n",
      "                                                                 \n",
      " max_pooling1d_81 (MaxPoolin  (None, 600, 32)          0         \n",
      " g1D)                                                            \n",
      "                                                                 \n",
      " flatten_75 (Flatten)        (None, 19200)             0         \n",
      "                                                                 \n",
      " dense_815 (Dense)           (None, 250)               4800250   \n",
      "                                                                 \n",
      " dense_816 (Dense)           (None, 41)                10291     \n",
      "                                                                 \n",
      "=================================================================\n",
      "Total params: 7,053,645\n",
      "Trainable params: 7,053,645\n",
      "Non-trainable params: 0\n",
      "_________________________________________________________________\n"
     ]
    }
   ],
   "source": [
    "top_words = 70000\n",
    "max_words = 30\n",
    "#def create_cnn_model(pool_type, conv_activation):\n",
    "model2 = Sequential()  \n",
    "model2.add(Embedding(top_words, 32, input_length=max_words))\n",
    "model2.add(Conv1D(32, 3, padding='same', activation='relu'))\n",
    "model2.add(MaxPooling1D())\n",
    "model2.add(Flatten())\n",
    "model2.add(Dense(250, activation='relu'))\n",
    "model2.add(Dense(41, activation='sigmoid'))\n",
    "model2.compile(loss='binary_crossentropy', optimizer='adam', metrics=['accuracy'])\n",
    "model2.summary()\n",
    "    #return model\n"
   ]
  },
  {
   "cell_type": "code",
   "execution_count": 783,
   "id": "9442eca6",
   "metadata": {},
   "outputs": [],
   "source": [
    "model2.compile(optimizer='adam', loss='binary_crossentropy', metrics = METRICS)"
   ]
  },
  {
   "cell_type": "code",
   "execution_count": 857,
   "id": "7dba9bff",
   "metadata": {},
   "outputs": [
    {
     "name": "stdout",
     "output_type": "stream",
     "text": [
      "Epoch 1/10\n",
      "37/37 - 15s - loss: 0.1821 - accuracy: 0.1633 - val_loss: 0.1295 - val_accuracy: 0.1873 - 15s/epoch - 397ms/step\n",
      "Epoch 2/10\n",
      "37/37 - 13s - loss: 0.1275 - accuracy: 0.1973 - val_loss: 0.1268 - val_accuracy: 0.1863 - 13s/epoch - 352ms/step\n",
      "Epoch 3/10\n",
      "37/37 - 14s - loss: 0.1237 - accuracy: 0.2172 - val_loss: 0.1259 - val_accuracy: 0.2201 - 14s/epoch - 373ms/step\n",
      "Epoch 4/10\n",
      "37/37 - 15s - loss: 0.1178 - accuracy: 0.2736 - val_loss: 0.1242 - val_accuracy: 0.2413 - 15s/epoch - 397ms/step\n",
      "Epoch 5/10\n",
      "37/37 - 13s - loss: 0.1092 - accuracy: 0.3450 - val_loss: 0.1235 - val_accuracy: 0.2443 - 13s/epoch - 340ms/step\n",
      "Epoch 6/10\n",
      "37/37 - 13s - loss: 0.0984 - accuracy: 0.4415 - val_loss: 0.1247 - val_accuracy: 0.2675 - 13s/epoch - 356ms/step\n",
      "Epoch 7/10\n",
      "37/37 - 13s - loss: 0.0856 - accuracy: 0.5512 - val_loss: 0.1265 - val_accuracy: 0.2756 - 13s/epoch - 357ms/step\n",
      "Epoch 8/10\n",
      "37/37 - 13s - loss: 0.0714 - accuracy: 0.6288 - val_loss: 0.1295 - val_accuracy: 0.2887 - 13s/epoch - 361ms/step\n",
      "Epoch 9/10\n",
      "37/37 - 13s - loss: 0.0578 - accuracy: 0.6796 - val_loss: 0.1377 - val_accuracy: 0.2898 - 13s/epoch - 350ms/step\n",
      "Epoch 10/10\n",
      "37/37 - 12s - loss: 0.0463 - accuracy: 0.7194 - val_loss: 0.1510 - val_accuracy: 0.2988 - 12s/epoch - 334ms/step\n"
     ]
    }
   ],
   "source": [
    "# Fitting the data onto model\n",
    "history = model2.fit(padded_docs_train, y_train, validation_data=(padded_docs_test, y_test), epochs=10, batch_size=128, verbose=2)\n",
    "#"
   ]
  },
  {
   "cell_type": "code",
   "execution_count": 858,
   "id": "36f14d9e",
   "metadata": {},
   "outputs": [
    {
     "name": "stdout",
     "output_type": "stream",
     "text": [
      "62/62 [==============================] - 2s 25ms/step\n",
      "For threshold:  0.1\n",
      "Micro-average quality numbers\n",
      "Precision: 0.2832, Recall: 0.3144, F1-measure: 0.2980\n",
      "For threshold:  0.2\n",
      "Micro-average quality numbers\n",
      "Precision: 0.3665, Recall: 0.2254, F1-measure: 0.2791\n",
      "For threshold:  0.3\n",
      "Micro-average quality numbers\n",
      "Precision: 0.4079, Recall: 0.1680, F1-measure: 0.2380\n",
      "For threshold:  0.4\n",
      "Micro-average quality numbers\n",
      "Precision: 0.4502, Recall: 0.1336, F1-measure: 0.2060\n",
      "For threshold:  0.5\n",
      "Micro-average quality numbers\n",
      "Precision: 0.4751, Recall: 0.1096, F1-measure: 0.1781\n",
      "For threshold:  0.6\n",
      "Micro-average quality numbers\n",
      "Precision: 0.4962, Recall: 0.0897, F1-measure: 0.1520\n",
      "For threshold:  0.7\n",
      "Micro-average quality numbers\n",
      "Precision: 0.5445, Recall: 0.0744, F1-measure: 0.1310\n",
      "For threshold:  0.8\n",
      "Micro-average quality numbers\n",
      "Precision: 0.5957, Recall: 0.0574, F1-measure: 0.1047\n",
      "For threshold:  0.9\n",
      "Micro-average quality numbers\n",
      "Precision: 0.6379, Recall: 0.0386, F1-measure: 0.0728\n"
     ]
    }
   ],
   "source": [
    "predictions=model2.predict([padded_docs_test])\n",
    "thresholds=[0.1,0.2,0.3,0.4,0.5,0.6,0.7,0.8,0.9]\n",
    "\n",
    "for val in thresholds:\n",
    "    print(\"For threshold: \", val)\n",
    "    pred=predictions.copy()\n",
    "  \n",
    "    pred[pred>=val]=1\n",
    "    pred[pred<val]=0\n",
    "  \n",
    "    precision = precision_score(y_test, pred, average='micro')\n",
    "    recall = recall_score(y_test, pred, average='micro')\n",
    "    f1 = f1_score(y_test, pred, average='micro')\n",
    "   \n",
    "    print(\"Micro-average quality numbers\")\n",
    "    print(\"Precision: {:.4f}, Recall: {:.4f}, F1-measure: {:.4f}\".format(precision, recall, f1))"
   ]
  },
  {
   "cell_type": "code",
   "execution_count": 863,
   "id": "5b071fba",
   "metadata": {},
   "outputs": [
    {
     "name": "stdout",
     "output_type": "stream",
     "text": [
      "1/1 [==============================] - 0s 31ms/step\n",
      "Original tags --> ['Mystery']\n",
      "Predicted tags --> ['mystery' 'science fiction' 'thriller']\n"
     ]
    }
   ],
   "source": [
    "def predict_sample():\n",
    "    t = train.sample(1)\n",
    "    encoded_docs = vect.texts_to_sequences(t['preprocessed_plots'])\n",
    "    padded_docs = pad_sequences(encoded_docs, maxlen=30, padding='post')\n",
    "    pred = model2.predict(padded_docs).tolist()\n",
    "    for i in range(len(pred[0])):\n",
    "        if(pred[0][i] < 0.1):\n",
    "            pred[0][i] = 0\n",
    "        else:\n",
    "            pred[0][i] = 1\n",
    "    \n",
    "    print(\"Original tags -->\", t['genre'].values)\n",
    "    print(\"Predicted tags -->\", vectorizer.inverse_transform(pred[0])[0])\n",
    "\n",
    "predict_sample()"
   ]
  },
  {
   "cell_type": "code",
   "execution_count": 862,
   "id": "f753a430",
   "metadata": {},
   "outputs": [
    {
     "name": "stdout",
     "output_type": "stream",
     "text": [
      "    Test Loss: 0.15097\n",
      "Test Accuracy: 29.88%\n"
     ]
    }
   ],
   "source": [
    "results = model2.evaluate(padded_docs_test, y_test, verbose=0)\n",
    "print(\"    Test Loss: {:.5f}\".format(results[0]))\n",
    "print(\"Test Accuracy: {:.2f}%\".format(results[1] * 100))"
   ]
  },
  {
   "cell_type": "markdown",
   "id": "14ff2853",
   "metadata": {},
   "source": [
    "# grid search CNN"
   ]
  },
  {
   "cell_type": "code",
   "execution_count": 794,
   "id": "ba3dd71e",
   "metadata": {},
   "outputs": [
    {
     "data": {
      "text/plain": [
       "{'conv_activation': ['sigmoid', 'tanh'],\n",
       " 'pool_type': ['max', 'average'],\n",
       " 'epochs': [1, 5]}"
      ]
     },
     "execution_count": 794,
     "metadata": {},
     "output_type": "execute_result"
    }
   ],
   "source": [
    "pool_type = ['max', 'average']\n",
    "epochs1 = [1, 5]\n",
    "conv_activation =  ['sigmoid', 'tanh']\n",
    "param_grid2 = dict(conv_activation=conv_activation, pool_type=pool_type, epochs = epochs1)\n",
    "param_grid2"
   ]
  },
  {
   "cell_type": "code",
   "execution_count": 795,
   "id": "fa752f1b",
   "metadata": {},
   "outputs": [
    {
     "name": "stderr",
     "output_type": "stream",
     "text": [
      "<ipython-input-795-271be18bb530>:1: DeprecationWarning: KerasClassifier is deprecated, use Sci-Keras (https://github.com/adriangb/scikeras) instead. See https://www.adriangb.com/scikeras/stable/migration.html for help migrating.\n",
      "  model2 = KerasClassifier(build_fn=create_cnn_model, verbose=1)\n",
      "C:\\Users\\Vadym\\anaconda3\\lib\\site-packages\\sklearn\\model_selection\\_search.py:285: UserWarning: The total space of parameters 8 is smaller than n_iter=10. Running 8 iterations. For exhaustive searches, use GridSearchCV.\n",
      "  warnings.warn(\n"
     ]
    },
    {
     "name": "stdout",
     "output_type": "stream",
     "text": [
      "73/73 [==============================] - 13s 182ms/step - loss: 0.1286 - tp: 0.0000e+00 - fp: 0.0000e+00 - tn: 91425.0000 - fn: 3326.0000 - accuracy: 0.9649 - precision: 0.0000e+00 - recall: 0.0000e+00 - auc: 0.8108\n",
      "73/73 [==============================] - 2s 23ms/step - loss: 0.1308 - tp: 0.0000e+00 - fp: 0.0000e+00 - tn: 91374.0000 - fn: 3418.0000 - accuracy: 0.9639 - precision: 0.0000e+00 - recall: 0.0000e+00 - auc: 0.8124\n",
      "73/73 [==============================] - 13s 183ms/step - loss: 0.1307 - tp: 0.0000e+00 - fp: 0.0000e+00 - tn: 91374.0000 - fn: 3418.0000 - accuracy: 0.9639 - precision: 0.0000e+00 - recall: 0.0000e+00 - auc: 0.8119\n",
      "73/73 [==============================] - 2s 23ms/step - loss: 0.1273 - tp: 0.0000e+00 - fp: 0.0000e+00 - tn: 91425.0000 - fn: 3326.0000 - accuracy: 0.9649 - precision: 0.0000e+00 - recall: 0.0000e+00 - auc: 0.8153\n",
      "73/73 [==============================] - 14s 191ms/step - loss: 0.1273 - tp: 0.0000e+00 - fp: 0.0000e+00 - tn: 91425.0000 - fn: 3326.0000 - accuracy: 0.9649 - precision: 0.0000e+00 - recall: 0.0000e+00 - auc: 0.8163\n",
      "73/73 [==============================] - 2s 23ms/step - loss: 0.1297 - tp: 0.0000e+00 - fp: 0.0000e+00 - tn: 91374.0000 - fn: 3418.0000 - accuracy: 0.9639 - precision: 0.0000e+00 - recall: 0.0000e+00 - auc: 0.8189\n",
      "73/73 [==============================] - 14s 185ms/step - loss: 0.1298 - tp: 0.0000e+00 - fp: 0.0000e+00 - tn: 91374.0000 - fn: 3418.0000 - accuracy: 0.9639 - precision: 0.0000e+00 - recall: 0.0000e+00 - auc: 0.8177\n",
      "73/73 [==============================] - 2s 22ms/step - loss: 0.1265 - tp: 0.0000e+00 - fp: 0.0000e+00 - tn: 91425.0000 - fn: 3326.0000 - accuracy: 0.9649 - precision: 0.0000e+00 - recall: 0.0000e+00 - auc: 0.8217\n",
      "Epoch 1/5\n",
      "73/73 [==============================] - 14s 187ms/step - loss: 0.1264 - tp: 0.0000e+00 - fp: 0.0000e+00 - tn: 91425.0000 - fn: 3326.0000 - accuracy: 0.9649 - precision: 0.0000e+00 - recall: 0.0000e+00 - auc: 0.8210\n",
      "Epoch 2/5\n",
      "73/73 [==============================] - 14s 198ms/step - loss: 0.1257 - tp: 0.0000e+00 - fp: 0.0000e+00 - tn: 91425.0000 - fn: 3326.0000 - accuracy: 0.9649 - precision: 0.0000e+00 - recall: 0.0000e+00 - auc: 0.8244\n",
      "Epoch 3/5\n",
      "73/73 [==============================] - 14s 186ms/step - loss: 0.1252 - tp: 0.0000e+00 - fp: 0.0000e+00 - tn: 91425.0000 - fn: 3326.0000 - accuracy: 0.9649 - precision: 0.0000e+00 - recall: 0.0000e+00 - auc: 0.8257\n",
      "Epoch 4/5\n",
      "73/73 [==============================] - 13s 181ms/step - loss: 0.1245 - tp: 0.0000e+00 - fp: 0.0000e+00 - tn: 91425.0000 - fn: 3326.0000 - accuracy: 0.9649 - precision: 0.0000e+00 - recall: 0.0000e+00 - auc: 0.8293\n",
      "Epoch 5/5\n",
      "73/73 [==============================] - 13s 175ms/step - loss: 0.1233 - tp: 0.0000e+00 - fp: 0.0000e+00 - tn: 91425.0000 - fn: 3326.0000 - accuracy: 0.9649 - precision: 0.0000e+00 - recall: 0.0000e+00 - auc: 0.8332\n",
      "73/73 [==============================] - 2s 23ms/step - loss: 0.1274 - tp: 0.0000e+00 - fp: 0.0000e+00 - tn: 91374.0000 - fn: 3418.0000 - accuracy: 0.9639 - precision: 0.0000e+00 - recall: 0.0000e+00 - auc: 0.8291\n",
      "Epoch 1/5\n",
      "73/73 [==============================] - 13s 176ms/step - loss: 0.1274 - tp: 0.0000e+00 - fp: 0.0000e+00 - tn: 91374.0000 - fn: 3418.0000 - accuracy: 0.9639 - precision: 0.0000e+00 - recall: 0.0000e+00 - auc: 0.8278\n",
      "Epoch 2/5\n",
      "73/73 [==============================] - 13s 176ms/step - loss: 0.1243 - tp: 0.0000e+00 - fp: 0.0000e+00 - tn: 91374.0000 - fn: 3418.0000 - accuracy: 0.9639 - precision: 0.0000e+00 - recall: 0.0000e+00 - auc: 0.8395\n",
      "Epoch 3/5\n",
      "73/73 [==============================] - 14s 187ms/step - loss: 0.1208 - tp: 0.0000e+00 - fp: 0.0000e+00 - tn: 91374.0000 - fn: 3418.0000 - accuracy: 0.9639 - precision: 0.0000e+00 - recall: 0.0000e+00 - auc: 0.8486\n",
      "Epoch 4/5\n",
      "73/73 [==============================] - 13s 181ms/step - loss: 0.1170 - tp: 21.0000 - fp: 1.0000 - tn: 91373.0000 - fn: 3397.0000 - accuracy: 0.9642 - precision: 0.9545 - recall: 0.0061 - auc: 0.8598\n",
      "Epoch 5/5\n",
      "73/73 [==============================] - 13s 178ms/step - loss: 0.1135 - tp: 141.0000 - fp: 5.0000 - tn: 91369.0000 - fn: 3277.0000 - accuracy: 0.9654 - precision: 0.9658 - recall: 0.0413 - auc: 0.8681\n",
      "73/73 [==============================] - 2s 23ms/step - loss: 0.1157 - tp: 157.0000 - fp: 17.0000 - tn: 91408.0000 - fn: 3169.0000 - accuracy: 0.9664 - precision: 0.9023 - recall: 0.0472 - auc: 0.8548\n",
      "Epoch 1/5\n",
      "73/73 [==============================] - 14s 196ms/step - loss: 0.1150 - tp: 187.0000 - fp: 44.0000 - tn: 91381.0000 - fn: 3139.0000 - accuracy: 0.9664 - precision: 0.8095 - recall: 0.0562 - auc: 0.8600\n",
      "Epoch 2/5\n",
      "73/73 [==============================] - 14s 193ms/step - loss: 0.1091 - tp: 358.0000 - fp: 68.0000 - tn: 91357.0000 - fn: 2968.0000 - accuracy: 0.9680 - precision: 0.8404 - recall: 0.1076 - auc: 0.8740\n",
      "Epoch 3/5\n",
      "73/73 [==============================] - 14s 194ms/step - loss: 0.1044 - tp: 434.0000 - fp: 62.0000 - tn: 91363.0000 - fn: 2892.0000 - accuracy: 0.9688 - precision: 0.8750 - recall: 0.1305 - auc: 0.8880\n",
      "Epoch 4/5\n",
      "73/73 [==============================] - 14s 189ms/step - loss: 0.1011 - tp: 464.0000 - fp: 87.0000 - tn: 91338.0000 - fn: 2862.0000 - accuracy: 0.9689 - precision: 0.8421 - recall: 0.1395 - auc: 0.8971\n",
      "Epoch 5/5\n",
      "73/73 [==============================] - 14s 191ms/step - loss: 0.0967 - tp: 581.0000 - fp: 81.0000 - tn: 91344.0000 - fn: 2745.0000 - accuracy: 0.9702 - precision: 0.8776 - recall: 0.1747 - auc: 0.9042\n",
      "73/73 [==============================] - 2s 22ms/step - loss: 0.1041 - tp: 413.0000 - fp: 94.0000 - tn: 91280.0000 - fn: 3005.0000 - accuracy: 0.9673 - precision: 0.8146 - recall: 0.1208 - auc: 0.8917\n",
      "Epoch 1/5\n",
      "73/73 [==============================] - 13s 179ms/step - loss: 0.1066 - tp: 447.0000 - fp: 166.0000 - tn: 91208.0000 - fn: 2971.0000 - accuracy: 0.9669 - precision: 0.7292 - recall: 0.1308 - auc: 0.8835\n",
      "Epoch 2/5\n",
      "73/73 [==============================] - 13s 176ms/step - loss: 0.1001 - tp: 506.0000 - fp: 77.0000 - tn: 91297.0000 - fn: 2912.0000 - accuracy: 0.9685 - precision: 0.8679 - recall: 0.1480 - auc: 0.9006\n",
      "Epoch 3/5\n",
      "73/73 [==============================] - 13s 183ms/step - loss: 0.0951 - tp: 654.0000 - fp: 79.0000 - tn: 91295.0000 - fn: 2764.0000 - accuracy: 0.9700 - precision: 0.8922 - recall: 0.1913 - auc: 0.9072\n",
      "Epoch 4/5\n",
      "73/73 [==============================] - 13s 180ms/step - loss: 0.0913 - tp: 773.0000 - fp: 99.0000 - tn: 91275.0000 - fn: 2645.0000 - accuracy: 0.9711 - precision: 0.8865 - recall: 0.2262 - auc: 0.9109\n",
      "Epoch 5/5\n",
      "73/73 [==============================] - 13s 184ms/step - loss: 0.0877 - tp: 832.0000 - fp: 76.0000 - tn: 91298.0000 - fn: 2586.0000 - accuracy: 0.9719 - precision: 0.9163 - recall: 0.2434 - auc: 0.9172\n",
      "73/73 [==============================] - 2s 29ms/step - loss: 0.0890 - tp: 785.0000 - fp: 100.0000 - tn: 91325.0000 - fn: 2541.0000 - accuracy: 0.9721 - precision: 0.8870 - recall: 0.2360 - auc: 0.9029\n",
      "73/73 [==============================] - 15s 202ms/step - loss: 0.0894 - tp: 762.0000 - fp: 120.0000 - tn: 91305.0000 - fn: 2564.0000 - accuracy: 0.9717 - precision: 0.8639 - recall: 0.2291 - auc: 0.9058\n",
      "73/73 [==============================] - 2s 26ms/step - loss: 0.0844 - tp: 929.0000 - fp: 109.0000 - tn: 91265.0000 - fn: 2489.0000 - accuracy: 0.9726 - precision: 0.8950 - recall: 0.2718 - auc: 0.9131\n",
      "73/73 [==============================] - 15s 210ms/step - loss: 0.0837 - tp: 973.0000 - fp: 92.0000 - tn: 91282.0000 - fn: 2445.0000 - accuracy: 0.9732 - precision: 0.9136 - recall: 0.2847 - auc: 0.9165\n",
      "73/73 [==============================] - 2s 23ms/step - loss: 0.0827 - tp: 951.0000 - fp: 128.0000 - tn: 91297.0000 - fn: 2375.0000 - accuracy: 0.9736 - precision: 0.8814 - recall: 0.2859 - auc: 0.9067\n",
      "73/73 [==============================] - 14s 185ms/step - loss: 0.0833 - tp: 932.0000 - fp: 104.0000 - tn: 91321.0000 - fn: 2394.0000 - accuracy: 0.9736 - precision: 0.8996 - recall: 0.2802 - auc: 0.9141\n",
      "73/73 [==============================] - 2s 26ms/step - loss: 0.0799 - tp: 1057.0000 - fp: 106.0000 - tn: 91268.0000 - fn: 2361.0000 - accuracy: 0.9740 - precision: 0.9089 - recall: 0.3092 - auc: 0.9123\n",
      "73/73 [==============================] - 15s 205ms/step - loss: 0.0799 - tp: 1072.0000 - fp: 100.0000 - tn: 91274.0000 - fn: 2346.0000 - accuracy: 0.9742 - precision: 0.9147 - recall: 0.3136 - auc: 0.9173\n",
      "73/73 [==============================] - 2s 22ms/step - loss: 0.0770 - tp: 1081.0000 - fp: 132.0000 - tn: 91293.0000 - fn: 2245.0000 - accuracy: 0.9749 - precision: 0.8912 - recall: 0.3250 - auc: 0.9181\n",
      "Epoch 1/5\n",
      "73/73 [==============================] - 14s 186ms/step - loss: 0.0785 - tp: 1028.0000 - fp: 115.0000 - tn: 91310.0000 - fn: 2298.0000 - accuracy: 0.9745 - precision: 0.8994 - recall: 0.3091 - auc: 0.9183\n",
      "Epoch 2/5\n",
      "73/73 [==============================] - 13s 182ms/step - loss: 0.0752 - tp: 1078.0000 - fp: 103.0000 - tn: 91322.0000 - fn: 2248.0000 - accuracy: 0.9752 - precision: 0.9128 - recall: 0.3241 - auc: 0.9226\n",
      "Epoch 3/5\n",
      "73/73 [==============================] - 13s 180ms/step - loss: 0.0719 - tp: 1133.0000 - fp: 72.0000 - tn: 91353.0000 - fn: 2193.0000 - accuracy: 0.9761 - precision: 0.9402 - recall: 0.3406 - auc: 0.9267\n",
      "Epoch 4/5\n",
      "73/73 [==============================] - 15s 200ms/step - loss: 0.0689 - tp: 1176.0000 - fp: 65.0000 - tn: 91360.0000 - fn: 2150.0000 - accuracy: 0.9766 - precision: 0.9476 - recall: 0.3536 - auc: 0.9310\n",
      "Epoch 5/5\n",
      "73/73 [==============================] - 18s 250ms/step - loss: 0.0655 - tp: 1277.0000 - fp: 72.0000 - tn: 91353.0000 - fn: 2049.0000 - accuracy: 0.9776 - precision: 0.9466 - recall: 0.3839 - auc: 0.9363\n",
      "73/73 [==============================] - 2s 30ms/step - loss: 0.0721 - tp: 1226.0000 - fp: 109.0000 - tn: 91265.0000 - fn: 2192.0000 - accuracy: 0.9757 - precision: 0.9184 - recall: 0.3587 - auc: 0.9191\n",
      "Epoch 1/5\n",
      "73/73 [==============================] - 14s 192ms/step - loss: 0.0732 - tp: 1230.0000 - fp: 129.0000 - tn: 91245.0000 - fn: 2188.0000 - accuracy: 0.9756 - precision: 0.9051 - recall: 0.3599 - auc: 0.9195\n",
      "Epoch 2/5\n",
      "73/73 [==============================] - 14s 192ms/step - loss: 0.0680 - tp: 1366.0000 - fp: 99.0000 - tn: 91275.0000 - fn: 2052.0000 - accuracy: 0.9773 - precision: 0.9324 - recall: 0.3996 - auc: 0.9299\n",
      "Epoch 3/5\n",
      "73/73 [==============================] - 17s 231ms/step - loss: 0.0634 - tp: 1469.0000 - fp: 85.0000 - tn: 91289.0000 - fn: 1949.0000 - accuracy: 0.9785 - precision: 0.9453 - recall: 0.4298 - auc: 0.9374\n",
      "Epoch 4/5\n",
      "73/73 [==============================] - 17s 234ms/step - loss: 0.0595 - tp: 1519.0000 - fp: 83.0000 - tn: 91291.0000 - fn: 1899.0000 - accuracy: 0.9791 - precision: 0.9482 - recall: 0.4444 - auc: 0.9413\n",
      "Epoch 5/5\n",
      "73/73 [==============================] - 13s 177ms/step - loss: 0.0549 - tp: 1607.0000 - fp: 59.0000 - tn: 91315.0000 - fn: 1811.0000 - accuracy: 0.9803 - precision: 0.9646 - recall: 0.4702 - auc: 0.9467\n",
      "73/73 [==============================] - 2s 25ms/step - loss: 0.0564 - tp: 1572.0000 - fp: 106.0000 - tn: 91319.0000 - fn: 1754.0000 - accuracy: 0.9804 - precision: 0.9368 - recall: 0.4726 - auc: 0.9469\n",
      "Epoch 1/5\n",
      "73/73 [==============================] - 15s 205ms/step - loss: 0.0586 - tp: 1520.0000 - fp: 126.0000 - tn: 91299.0000 - fn: 1806.0000 - accuracy: 0.9796 - precision: 0.9235 - recall: 0.4570 - auc: 0.9412\n",
      "Epoch 2/5\n",
      "73/73 [==============================] - 14s 185ms/step - loss: 0.0543 - tp: 1611.0000 - fp: 97.0000 - tn: 91328.0000 - fn: 1715.0000 - accuracy: 0.9809 - precision: 0.9432 - recall: 0.4844 - auc: 0.9419\n",
      "Epoch 3/5\n",
      "73/73 [==============================] - 13s 177ms/step - loss: 0.0495 - tp: 1673.0000 - fp: 63.0000 - tn: 91362.0000 - fn: 1653.0000 - accuracy: 0.9819 - precision: 0.9637 - recall: 0.5030 - auc: 0.9563\n",
      "Epoch 4/5\n",
      "73/73 [==============================] - 14s 186ms/step - loss: 0.0458 - tp: 1744.0000 - fp: 53.0000 - tn: 91372.0000 - fn: 1582.0000 - accuracy: 0.9827 - precision: 0.9705 - recall: 0.5244 - auc: 0.9576\n",
      "Epoch 5/5\n",
      "73/73 [==============================] - 13s 172ms/step - loss: 0.0442 - tp: 1765.0000 - fp: 58.0000 - tn: 91367.0000 - fn: 1561.0000 - accuracy: 0.9829 - precision: 0.9682 - recall: 0.5307 - auc: 0.9581\n",
      "73/73 [==============================] - 2s 33ms/step - loss: 0.0476 - tp: 1730.0000 - fp: 72.0000 - tn: 91302.0000 - fn: 1688.0000 - accuracy: 0.9814 - precision: 0.9600 - recall: 0.5061 - auc: 0.9551\n",
      "Epoch 1/5\n",
      "73/73 [==============================] - 16s 216ms/step - loss: 0.0498 - tp: 1733.0000 - fp: 90.0000 - tn: 91284.0000 - fn: 1685.0000 - accuracy: 0.9813 - precision: 0.9506 - recall: 0.5070 - auc: 0.9445\n",
      "Epoch 2/5\n",
      "73/73 [==============================] - 14s 191ms/step - loss: 0.0452 - tp: 1779.0000 - fp: 78.0000 - tn: 91296.0000 - fn: 1639.0000 - accuracy: 0.9819 - precision: 0.9580 - recall: 0.5205 - auc: 0.9531\n",
      "Epoch 3/5\n",
      "73/73 [==============================] - 15s 212ms/step - loss: 0.0411 - tp: 1862.0000 - fp: 49.0000 - tn: 91325.0000 - fn: 1556.0000 - accuracy: 0.9831 - precision: 0.9744 - recall: 0.5448 - auc: 0.9602\n",
      "Epoch 4/5\n",
      "73/73 [==============================] - 14s 187ms/step - loss: 0.0374 - tp: 1925.0000 - fp: 33.0000 - tn: 91341.0000 - fn: 1493.0000 - accuracy: 0.9839 - precision: 0.9831 - recall: 0.5632 - auc: 0.9685\n",
      "Epoch 5/5\n",
      "73/73 [==============================] - 19s 258ms/step - loss: 0.0346 - tp: 1933.0000 - fp: 32.0000 - tn: 91342.0000 - fn: 1485.0000 - accuracy: 0.9840 - precision: 0.9837 - recall: 0.5655 - auc: 0.9700\n",
      "73/73 [==============================] - 5s 69ms/step - loss: 0.0361 - tp: 1892.0000 - fp: 70.0000 - tn: 91355.0000 - fn: 1434.0000 - accuracy: 0.9841 - precision: 0.9643 - recall: 0.5689 - auc: 0.9655\n",
      "Epoch 1/5\n",
      "145/145 [==============================] - 27s 184ms/step - loss: 0.0354 - tp: 3850.0000 - fp: 90.0000 - tn: 182709.0000 - fn: 2894.0000 - accuracy: 0.9843 - precision: 0.9772 - recall: 0.5709 - auc: 0.9670\n",
      "Epoch 2/5\n",
      "145/145 [==============================] - 27s 184ms/step - loss: 0.0315 - tp: 3968.0000 - fp: 86.0000 - tn: 182713.0000 - fn: 2776.0000 - accuracy: 0.9849 - precision: 0.9788 - recall: 0.5884 - auc: 0.9736\n",
      "Epoch 3/5\n",
      "145/145 [==============================] - 26s 176ms/step - loss: 0.0288 - tp: 4044.0000 - fp: 80.0000 - tn: 182719.0000 - fn: 2700.0000 - accuracy: 0.9853 - precision: 0.9806 - recall: 0.5996 - auc: 0.9759\n",
      "Epoch 4/5\n",
      "145/145 [==============================] - 26s 176ms/step - loss: 0.0257 - tp: 4138.0000 - fp: 63.0000 - tn: 182736.0000 - fn: 2606.0000 - accuracy: 0.9859 - precision: 0.9850 - recall: 0.6136 - auc: 0.9769\n",
      "Epoch 5/5\n",
      "145/145 [==============================] - 26s 176ms/step - loss: 0.0231 - tp: 4213.0000 - fp: 68.0000 - tn: 182731.0000 - fn: 2531.0000 - accuracy: 0.9863 - precision: 0.9841 - recall: 0.6247 - auc: 0.9807\n",
      "Best: 0.982780 using {'pool_type': 'average', 'epochs': 5, 'conv_activation': 'tanh'}\n",
      "0.964420 (0.000478) with: {'pool_type': 'max', 'epochs': 1, 'conv_activation': 'sigmoid'}\n",
      "0.964420 (0.000478) with: {'pool_type': 'average', 'epochs': 1, 'conv_activation': 'sigmoid'}\n",
      "0.965159 (0.001216) with: {'pool_type': 'max', 'epochs': 5, 'conv_activation': 'sigmoid'}\n",
      "0.969717 (0.002410) with: {'pool_type': 'average', 'epochs': 5, 'conv_activation': 'sigmoid'}\n",
      "0.973088 (0.000495) with: {'pool_type': 'max', 'epochs': 1, 'conv_activation': 'tanh'}\n",
      "0.974444 (0.000469) with: {'pool_type': 'average', 'epochs': 1, 'conv_activation': 'tanh'}\n",
      "0.978048 (0.002322) with: {'pool_type': 'max', 'epochs': 5, 'conv_activation': 'tanh'}\n",
      "0.982780 (0.001347) with: {'pool_type': 'average', 'epochs': 5, 'conv_activation': 'tanh'}\n"
     ]
    }
   ],
   "source": [
    "model2 = KerasClassifier(build_fn=create_cnn_model, verbose=1)\n",
    "\n",
    "grid2 =GridSearchCV(estimator=model2, param_grid=param_grid2, cv=2)\n",
    "\n",
    "grid_result2 = grid2.fit(padded_docs_train, y_train)\n",
    "\n",
    "# summarize results\n",
    "print(\"Best: %f using %s\" % (grid_result2.best_score_, grid_result2.best_params_))\n",
    "means = grid_result2.cv_results_['mean_test_score']\n",
    "stds = grid_result2.cv_results_['std_test_score']\n",
    "params = grid_result2.cv_results_['params']\n",
    "for mean, stdev, param in zip(means, stds, params):\n",
    "    print(\"%f (%f) with: %r\" % (mean, stdev, param))"
   ]
  },
  {
   "cell_type": "markdown",
   "id": "a37c79ef",
   "metadata": {},
   "source": [
    "# Combining CNN and LSTM"
   ]
  },
  {
   "cell_type": "code",
   "execution_count": 841,
   "id": "ea231672",
   "metadata": {},
   "outputs": [
    {
     "name": "stdout",
     "output_type": "stream",
     "text": [
      "Model: \"sequential_740\"\n",
      "_________________________________________________________________\n",
      " Layer (type)                Output Shape              Param #   \n",
      "=================================================================\n",
      " embedding_741 (Embedding)   (None, 30, 100)           5000000   \n",
      "                                                                 \n",
      " dropout_1071 (Dropout)      (None, 30, 100)           0         \n",
      "                                                                 \n",
      " lstm_1127 (LSTM)            (None, 100)               80400     \n",
      "                                                                 \n",
      " dense_808 (Dense)           (None, 41)                4141      \n",
      "                                                                 \n",
      " embedding_742 (Embedding)   (None, 41, 32)            2240000   \n",
      "                                                                 \n",
      " conv1d_85 (Conv1D)          (None, 41, 32)            3104      \n",
      "                                                                 \n",
      " max_pooling1d_78 (MaxPoolin  (None, 20, 32)           0         \n",
      " g1D)                                                            \n",
      "                                                                 \n",
      " flatten_72 (Flatten)        (None, 640)               0         \n",
      "                                                                 \n",
      " dense_809 (Dense)           (None, 250)               160250    \n",
      "                                                                 \n",
      " dense_810 (Dense)           (None, 41)                10291     \n",
      "                                                                 \n",
      "=================================================================\n",
      "Total params: 7,498,186\n",
      "Trainable params: 7,498,186\n",
      "Non-trainable params: 0\n",
      "_________________________________________________________________\n"
     ]
    }
   ],
   "source": [
    "model3 = Sequential()\n",
    "model3.add(Embedding(MAX_NB_WORDS, EMBEDDING_DIM, input_length=30))\n",
    "model3.add(Dropout(0.2))\n",
    "model3.add(LSTM(100, dropout=0.2, recurrent_dropout=0.2))\n",
    "model3.add(Dense(41, activation='softmax'))\n",
    "# Configuring the parameters\n",
    "#model.summary()\n",
    "#model = Sequential()\n",
    "model3.add(Embedding(top_words, 32, input_length=max_words))\n",
    "model3.add(Conv1D(32, 3, padding='same', activation='relu'))\n",
    "model3.add(MaxPooling1D())\n",
    "model3.add(Flatten())\n",
    "model3.add(Dense(250, activation='relu'))\n",
    "model3.add(Dense(41, activation='sigmoid'))\n",
    "\n",
    "\n",
    "model3.compile(loss='binary_crossentropy', optimizer='adam', metrics=['accuracy'])\n",
    "\n",
    "\n",
    "model3.summary()\n",
    "    #return model"
   ]
  },
  {
   "cell_type": "code",
   "execution_count": 842,
   "id": "71871459",
   "metadata": {},
   "outputs": [
    {
     "name": "stdout",
     "output_type": "stream",
     "text": [
      "Epoch 1/5\n",
      "WARNING:tensorflow:Gradients do not exist for variables ['embedding_741/embeddings:0', 'lstm_1127/lstm_cell_1135/kernel:0', 'lstm_1127/lstm_cell_1135/recurrent_kernel:0', 'lstm_1127/lstm_cell_1135/bias:0', 'dense_808/kernel:0', 'dense_808/bias:0'] when minimizing the loss. If you're using `model.compile()`, did you forget to provide a `loss` argument?\n",
      "WARNING:tensorflow:Gradients do not exist for variables ['embedding_741/embeddings:0', 'lstm_1127/lstm_cell_1135/kernel:0', 'lstm_1127/lstm_cell_1135/recurrent_kernel:0', 'lstm_1127/lstm_cell_1135/bias:0', 'dense_808/kernel:0', 'dense_808/bias:0'] when minimizing the loss. If you're using `model.compile()`, did you forget to provide a `loss` argument?\n",
      "WARNING:tensorflow:Gradients do not exist for variables ['embedding_741/embeddings:0', 'lstm_1127/lstm_cell_1135/kernel:0', 'lstm_1127/lstm_cell_1135/recurrent_kernel:0', 'lstm_1127/lstm_cell_1135/bias:0', 'dense_808/kernel:0', 'dense_808/bias:0'] when minimizing the loss. If you're using `model.compile()`, did you forget to provide a `loss` argument?\n",
      "WARNING:tensorflow:Gradients do not exist for variables ['embedding_741/embeddings:0', 'lstm_1127/lstm_cell_1135/kernel:0', 'lstm_1127/lstm_cell_1135/recurrent_kernel:0', 'lstm_1127/lstm_cell_1135/bias:0', 'dense_808/kernel:0', 'dense_808/bias:0'] when minimizing the loss. If you're using `model.compile()`, did you forget to provide a `loss` argument?\n",
      "37/37 - 12s - loss: 0.3552 - accuracy: 0.0498 - val_loss: 0.1441 - val_accuracy: 0.1873 - 12s/epoch - 317ms/step\n",
      "Epoch 2/5\n",
      "37/37 - 10s - loss: 0.1324 - accuracy: 0.1949 - val_loss: 0.1289 - val_accuracy: 0.1873 - 10s/epoch - 262ms/step\n",
      "Epoch 3/5\n",
      "37/37 - 10s - loss: 0.1289 - accuracy: 0.1949 - val_loss: 0.1286 - val_accuracy: 0.1873 - 10s/epoch - 261ms/step\n",
      "Epoch 4/5\n",
      "37/37 - 9s - loss: 0.1288 - accuracy: 0.1949 - val_loss: 0.1286 - val_accuracy: 0.1873 - 9s/epoch - 252ms/step\n",
      "Epoch 5/5\n",
      "37/37 - 9s - loss: 0.1288 - accuracy: 0.1949 - val_loss: 0.1286 - val_accuracy: 0.1873 - 9s/epoch - 245ms/step\n"
     ]
    },
    {
     "data": {
      "text/plain": [
       "<keras.callbacks.History at 0x1edfd917bb0>"
      ]
     },
     "execution_count": 842,
     "metadata": {},
     "output_type": "execute_result"
    }
   ],
   "source": [
    "model3.fit(padded_docs_train, y_train, validation_data=(padded_docs_test, y_test), epochs=5, batch_size=128, verbose=2)\n",
    "#"
   ]
  },
  {
   "cell_type": "code",
   "execution_count": 843,
   "id": "6f8e321d",
   "metadata": {},
   "outputs": [
    {
     "name": "stdout",
     "output_type": "stream",
     "text": [
      "62/62 [==============================] - 2s 27ms/step\n",
      "For threshold:  0.1\n",
      "Micro-average quality numbers\n",
      "Precision: 0.1733, Recall: 0.3583, F1-measure: 0.2336\n",
      "For threshold:  0.2\n",
      "Micro-average quality numbers\n",
      "Precision: 0.2367, Recall: 0.1631, F1-measure: 0.1932\n",
      "For threshold:  0.3\n",
      "Micro-average quality numbers\n",
      "Precision: 0.0000, Recall: 0.0000, F1-measure: 0.0000\n",
      "For threshold:  0.4\n",
      "Micro-average quality numbers\n",
      "Precision: 0.0000, Recall: 0.0000, F1-measure: 0.0000\n",
      "For threshold:  0.5\n",
      "Micro-average quality numbers\n",
      "Precision: 0.0000, Recall: 0.0000, F1-measure: 0.0000\n",
      "For threshold:  0.6\n"
     ]
    },
    {
     "name": "stderr",
     "output_type": "stream",
     "text": [
      "C:\\Users\\Vadym\\anaconda3\\lib\\site-packages\\sklearn\\metrics\\_classification.py:1245: UndefinedMetricWarning: Precision is ill-defined and being set to 0.0 due to no predicted samples. Use `zero_division` parameter to control this behavior.\n",
      "  _warn_prf(average, modifier, msg_start, len(result))\n",
      "C:\\Users\\Vadym\\anaconda3\\lib\\site-packages\\sklearn\\metrics\\_classification.py:1245: UndefinedMetricWarning: Precision is ill-defined and being set to 0.0 due to no predicted samples. Use `zero_division` parameter to control this behavior.\n",
      "  _warn_prf(average, modifier, msg_start, len(result))\n",
      "C:\\Users\\Vadym\\anaconda3\\lib\\site-packages\\sklearn\\metrics\\_classification.py:1245: UndefinedMetricWarning: Precision is ill-defined and being set to 0.0 due to no predicted samples. Use `zero_division` parameter to control this behavior.\n",
      "  _warn_prf(average, modifier, msg_start, len(result))\n",
      "C:\\Users\\Vadym\\anaconda3\\lib\\site-packages\\sklearn\\metrics\\_classification.py:1245: UndefinedMetricWarning: Precision is ill-defined and being set to 0.0 due to no predicted samples. Use `zero_division` parameter to control this behavior.\n",
      "  _warn_prf(average, modifier, msg_start, len(result))\n"
     ]
    },
    {
     "name": "stdout",
     "output_type": "stream",
     "text": [
      "Micro-average quality numbers\n",
      "Precision: 0.0000, Recall: 0.0000, F1-measure: 0.0000\n",
      "For threshold:  0.7\n",
      "Micro-average quality numbers\n",
      "Precision: 0.0000, Recall: 0.0000, F1-measure: 0.0000\n",
      "For threshold:  0.8\n",
      "Micro-average quality numbers\n",
      "Precision: 0.0000, Recall: 0.0000, F1-measure: 0.0000\n",
      "For threshold:  0.9\n",
      "Micro-average quality numbers\n",
      "Precision: 0.0000, Recall: 0.0000, F1-measure: 0.0000\n"
     ]
    },
    {
     "name": "stderr",
     "output_type": "stream",
     "text": [
      "C:\\Users\\Vadym\\anaconda3\\lib\\site-packages\\sklearn\\metrics\\_classification.py:1245: UndefinedMetricWarning: Precision is ill-defined and being set to 0.0 due to no predicted samples. Use `zero_division` parameter to control this behavior.\n",
      "  _warn_prf(average, modifier, msg_start, len(result))\n",
      "C:\\Users\\Vadym\\anaconda3\\lib\\site-packages\\sklearn\\metrics\\_classification.py:1245: UndefinedMetricWarning: Precision is ill-defined and being set to 0.0 due to no predicted samples. Use `zero_division` parameter to control this behavior.\n",
      "  _warn_prf(average, modifier, msg_start, len(result))\n",
      "C:\\Users\\Vadym\\anaconda3\\lib\\site-packages\\sklearn\\metrics\\_classification.py:1245: UndefinedMetricWarning: Precision is ill-defined and being set to 0.0 due to no predicted samples. Use `zero_division` parameter to control this behavior.\n",
      "  _warn_prf(average, modifier, msg_start, len(result))\n"
     ]
    }
   ],
   "source": [
    "predictions=model3.predict([padded_docs_test])\n",
    "thresholds=[0.1,0.2,0.3,0.4,0.5,0.6,0.7,0.8,0.9]\n",
    "\n",
    "for val in thresholds:\n",
    "    print(\"For threshold: \", val)\n",
    "    pred=predictions.copy()\n",
    "  \n",
    "    pred[pred>=val]=1\n",
    "    pred[pred<val]=0\n",
    "  \n",
    "    precision = precision_score(y_test, pred, average='micro')\n",
    "    recall = recall_score(y_test, pred, average='micro')\n",
    "    f1 = f1_score(y_test, pred, average='micro')\n",
    "   \n",
    "    print(\"Micro-average quality numbers\")\n",
    "    print(\"Precision: {:.4f}, Recall: {:.4f}, F1-measure: {:.4f}\".format(precision, recall, f1))"
   ]
  },
  {
   "cell_type": "code",
   "execution_count": 864,
   "id": "5dd5e246",
   "metadata": {},
   "outputs": [
    {
     "data": {
      "image/png": "[encoded data removed]",
      "text/plain": [
       "<Figure size 432x288 with 1 Axes>"
      ]
     },
     "metadata": {},
     "output_type": "display_data"
    },
    {
     "data": {
      "image/png": "[encoded data removed]",
      "text/plain": [
       "<Figure size 432x288 with 1 Axes>"
      ]
     },
     "metadata": {},
     "output_type": "display_data"
    }
   ],
   "source": [
    "# Plotting Accuracy and val_accuracy\n",
    "plt.title('Accuracy')\n",
    "plt.plot(history.history['accuracy'], label='train')\n",
    "plt.plot(history.history['val_accuracy'], label='test')\n",
    "plt.legend()\n",
    "plt.show();\n",
    "\n",
    "# Plotting loss and val_loss\n",
    "plt.title('Loss')\n",
    "plt.plot(history.history['loss'], label='train')\n",
    "plt.plot(history.history['val_loss'], label='test')\n",
    "plt.legend()\n",
    "plt.show()"
   ]
  }
 ],
 "metadata": {
  "kernelspec": {
   "display_name": "Python 3",
   "language": "python",
   "name": "python3"
  },
  "language_info": {
   "codemirror_mode": {
    "name": "ipython",
    "version": 3
   },
   "file_extension": ".py",
   "mimetype": "text/x-python",
   "name": "python",
   "nbconvert_exporter": "python",
   "pygments_lexer": "ipython3",
   "version": "3.8.8"
  }
 },
 "nbformat": 4,
 "nbformat_minor": 5
}
